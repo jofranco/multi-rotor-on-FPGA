{
 "cells": [
  {
   "cell_type": "code",
   "execution_count": 3,
   "metadata": {},
   "outputs": [],
   "source": [
    "from pynq import Overlay\n",
    "overlay = Overlay(\"base.bit\")"
   ]
  },
  {
   "cell_type": "code",
   "execution_count": 4,
   "metadata": {},
   "outputs": [],
   "source": [
    "from pynq.overlays.base import BaseOverlay\n",
    "from pynq.lib.arduino import Arduino_IO\n",
    "import time\n",
    "import matplotlib.pyplot as plt\n",
    "from ipywidgets import *\n",
    "\n",
    "base = BaseOverlay('base.bit')\n",
    "triggerGPIO = Arduino_IO(base.iop_arduino.mb_info, 0, 'out')\n",
    "echoGPIO = Arduino_IO(base.iop_arduino.mb_info, 1, 'in')\n"
   ]
  },
  {
   "cell_type": "code",
   "execution_count": 5,
   "metadata": {},
   "outputs": [],
   "source": [
    "i = 0\n",
    "outputList = []\n",
    "while i <= 10:\n",
    "    triggerGPIO.write(0)\n",
    "    time.sleep(1)\n",
    "    triggerGPIO.write(1)\n",
    "    start = time.time()\n",
    "    time.sleep(0.1)\n",
    "    triggerGPIO.write(0)\n",
    "    #start = time.time()\n",
    "    while True:\n",
    "         if echoGPIO.read() == 1:\n",
    "            end = time.time()\n",
    "            break\n",
    "    duration = end - start\n",
    "    #calc distance \n",
    "    distance = ( duration * 34 ) / 2\n",
    "    outputList.append(distance)\n",
    "    #print(distance)\n",
    "    time.sleep(1)\n",
    "    i+=1"
   ]
  },
  {
   "cell_type": "code",
   "execution_count": 6,
   "metadata": {},
   "outputs": [
    {
     "data": {
      "image/png": "[encoded data removed]",
      "text/plain": [
       "<matplotlib.figure.Figure at 0xaaecb0f0>"
      ]
     },
     "metadata": {},
     "output_type": "display_data"
    }
   ],
   "source": [
    "for j in range (0,9):\n",
    "    plt.plot(j,outputList[j],'ro')\n",
    "    plt.title(\"Sonar Measurements\")\n",
    "    plt.xlabel(\"Sonar Ping\")\n",
    "    plt.ylabel(\"Distance (meters)\")\n",
    "plt.show()"
   ]
  }
 ],
 "metadata": {
  "kernelspec": {
   "display_name": "Python 3",
   "language": "python",
   "name": "python3"
  },
  "language_info": {
   "codemirror_mode": {
    "name": "ipython",
    "version": 3
   },
   "file_extension": ".py",
   "mimetype": "text/x-python",
   "name": "python",
   "nbconvert_exporter": "python",
   "pygments_lexer": "ipython3",
   "version": "3.6.5"
  }
 },
 "nbformat": 4,
 "nbformat_minor": 2
}
