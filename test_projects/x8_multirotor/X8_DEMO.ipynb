{
 "cells": [
  {
   "cell_type": "markdown",
   "metadata": {},
   "source": [
    "------------------------------------------------------------------------\n",
    "\n",
    "# WES 207 X8 FPGA Flight Controller Demo Code\n",
    "\n",
    "### Author: Aaron Coffman\n",
    "\n",
    "-------------------------------------------------------------------------"
   ]
  },
  {
   "cell_type": "markdown",
   "metadata": {},
   "source": [
    "### Jupyter Notebook Setup for Overlay Import"
   ]
  },
  {
   "cell_type": "code",
   "execution_count": 1,
   "metadata": {},
   "outputs": [
    {
     "data": {
      "application/javascript": [
       "\n",
       "require(['notebook/js/codecell'], function(codecell) {\n",
       "  codecell.CodeCell.options_default.highlight_modes[\n",
       "      'magic_text/x-csrc'] = {'reg':[/^%%microblaze/]};\n",
       "  Jupyter.notebook.events.one('kernel_ready.Kernel', function(){\n",
       "      Jupyter.notebook.get_cells().map(function(cell){\n",
       "          if (cell.cell_type == 'code'){ cell.auto_highlight(); } }) ;\n",
       "  });\n",
       "});\n"
      ]
     },
     "metadata": {},
     "output_type": "display_data"
    },
    {
     "name": "stdout",
     "output_type": "stream",
     "text": [
      "\n",
      "done\n"
     ]
    }
   ],
   "source": [
    "\n",
    "from pynq import Overlay\n",
    "from pynq import MMIO\n",
    "import time\n",
    "import numpy as np\n",
    "from math import *\n",
    "\n",
    "print('')\n",
    "print('done')"
   ]
  },
  {
   "cell_type": "markdown",
   "metadata": {},
   "source": [
    "### Loading FPGA bit stream"
   ]
  },
  {
   "cell_type": "code",
   "execution_count": 3,
   "metadata": {},
   "outputs": [
    {
     "name": "stdout",
     "output_type": "stream",
     "text": [
      "  \n",
      "1.7901568412780762 seconds to program bitstream\n",
      "\n",
      "done\n"
     ]
    }
   ],
   "source": [
    "# Load bitstream\n",
    "#ol = Overlay('SBUS_DEMO_100M_tx_ext_clks_test5.bit')\n",
    "ol = Overlay('X8_DEMO_3.bit')\n",
    "\n",
    "# Download bitstream to FPGA\n",
    "t_before_bitstream = time.time()\n",
    "ol.download()\n",
    "t_after_bitstream = time.time()\n",
    "print('  ')\n",
    "print(t_after_bitstream - t_before_bitstream, 'seconds to program bitstream')\n",
    "\n",
    "print('')\n",
    "print('done')"
   ]
  },
  {
   "cell_type": "markdown",
   "metadata": {},
   "source": [
    "### Setting MMIO Address Definitions"
   ]
  },
  {
   "cell_type": "code",
   "execution_count": 4,
   "metadata": {},
   "outputs": [
    {
     "name": "stdout",
     "output_type": "stream",
     "text": [
      "Address Definitions complete\n",
      "\n",
      "done\n"
     ]
    }
   ],
   "source": [
    "# Address space definitions\n",
    "## MMIO targets\n",
    "\n",
    "# Xilinx IP cores\n",
    "QUAD_SPI_BASE_ADDRESS           = 0x40000000\n",
    "UART_16550_BASE_ADDRESS         = 0x41C00000\n",
    "\n",
    "# HLS IP cores\n",
    "SPI_DRIVER_CTRL_BASE_ADDRESS    = 0x00000000  # placeholder\n",
    "POSITION_CTRL_BASE_ADDRESS      = 0x00000000  # placeholder\n",
    "\n",
    "UART_DRIVER_CTRL_BASE_ADDRESS   = 0x40002000\n",
    "\n",
    "RC_RECEIVER_CTRL_BASE_ADDRESS   = 0x40003000\n",
    "RC_RECEIVER_DATA_BASE_ADDRESS   = 0x40003020  # 0x20 for raw SBUS data\n",
    "\n",
    "FLIGHT_MAIN_CTRL_BASE_ADDRESS   = 0x40004000\n",
    "FLIGHT_MAIN_CMD_BASE_ADDRESS    = 0x40004010  # 0x10 for scaled SBUS data\n",
    "FLIGHT_MAIN_MEAS_BASE_ADDRESS   = 0x40004020  # 0x20 for scaled Measured data\n",
    "\n",
    "PID_CTRL_BASE_ADDRESS           = 0x40005000\n",
    "PID_INPUT_CMD_BASE_ADDRESS      = 0x40005010  # 0x10 for CMD input\n",
    "PID_INPUT_MEAS_BASE_ADDRESS     = 0x40005020  # 0x20 for Measured input\n",
    "PID_KP_BASE_ADDRESS             = 0x40005040  # 0x40 for kp PID gains\n",
    "PID_KI_BASE_ADDRESS             = 0x40005070  # 0x70 for ki PID gains\n",
    "PID_KD_BASE_ADDRESS             = 0x40005060  # 0x60 for kd PID gains\n",
    "\n",
    "PWM_CTRL_BASE_ADDRESS           = 0x40006000\n",
    "PWM_INPUT_CMD_BASE_ADDRESS      = 0x40006040  # 0x40 for CMD input\n",
    "PWM_MIN_DUTY_BASE_ADDRESS       = 0x40006010  # 0x10 for Min Duty Cycle input\n",
    "PWM_MAX_DUTY_BASE_ADDRESS       = 0x40006018  # 0x18 for Max Duty Cycle input\n",
    "PWM_PERIOD_ADDRESS              = 0x40006020  # 0x20 for Period (frequency) Input\n",
    "PWM_TEST_DATA_BASE_ADDRESS      = 0x40014000\n",
    "\n",
    "\n",
    "# MMIO address ranges\n",
    "ADDRESS_RANGE1 = 0x1000    # 4k\n",
    "ADDRESS_RANGE2 = 0x2000    # 8k\n",
    "ADDRESS_RANGE3 = 0x4000    # 16k\n",
    "ADDRESS_RANGE4 = 0x10000   # 64k\n",
    "\n",
    "\n",
    "print('Address Definitions complete')\n",
    "print('')\n",
    "print('done')"
   ]
  },
  {
   "cell_type": "markdown",
   "metadata": {},
   "source": [
    "### Defining MMIO index offsets for read/write functions"
   ]
  },
  {
   "cell_type": "code",
   "execution_count": 5,
   "metadata": {},
   "outputs": [
    {
     "name": "stdout",
     "output_type": "stream",
     "text": [
      "\n",
      "done\n"
     ]
    }
   ],
   "source": [
    "# defining MMIO index offsets\n",
    "index_0 = 0x00\n",
    "index_1 = 0x04\n",
    "index_2 = 0x08\n",
    "index_3 = 0x0C\n",
    "index_4 = 0x10\n",
    "index_5 = 0x14\n",
    "index_6 = 0x18\n",
    "index_7 = 0x1C \n",
    "index_8 = 0x20\n",
    "index_9 = 0x24\n",
    "index_10 = 0x28\n",
    "index_11 = 0x2C\n",
    "index_12 = 0x30\n",
    "index_13 = 0x34\n",
    "index_14 = 0x38\n",
    "index_15 = 0x3C \n",
    "index_16 = 0x40\n",
    "index_17 = 0x44\n",
    "index_18 = 0x48\n",
    "index_19 = 0x4C\n",
    "index_20 = 0x50\n",
    "index_21 = 0x54\n",
    "index_22 = 0x58\n",
    "index_23 = 0x5C \n",
    "index_24 = 0x60\n",
    "index_25 = 0x64\n",
    "index_26 = 0x68\n",
    "index_27 = 0x6C\n",
    "index_28 = 0x70\n",
    "index_29 = 0x74\n",
    "\n",
    "print('')\n",
    "print('done')"
   ]
  },
  {
   "cell_type": "markdown",
   "metadata": {},
   "source": [
    "### Configuring PID Controller Gains"
   ]
  },
  {
   "cell_type": "code",
   "execution_count": 6,
   "metadata": {},
   "outputs": [
    {
     "name": "stdout",
     "output_type": "stream",
     "text": [
      "Decimal Value:  1638.4\n",
      "Hex Value: \t666\n"
     ]
    }
   ],
   "source": [
    "# calculating PID gains for 32 bit fixed point kp, ki, kd\n",
    "\n",
    "Desired_gain = 0.200\n",
    "val = Desired_gain / pow(2,-13)\n",
    "\n",
    "print('Decimal Value: ', val   )\n",
    "print('Hex Value: \\t{0:x}'.format( int(val) ))\n"
   ]
  },
  {
   "cell_type": "code",
   "execution_count": 7,
   "metadata": {},
   "outputs": [
    {
     "name": "stdout",
     "output_type": "stream",
     "text": [
      "kp: 0.199951171875 0.199951171875 0.199951171875 0.199951171875 0.199951171875 0.199951171875\n",
      "ki: 0.0 0.0 0.0 0.0\n",
      "kd: 0.00048828125 0.00048828125 0.00048828125 0.00048828125\n",
      "\n",
      "done\n"
     ]
    }
   ],
   "source": [
    "\n",
    "# creating MMIO objects\n",
    "kp_gains = MMIO(PID_KP_BASE_ADDRESS,ADDRESS_RANGE1, False)\n",
    "ki_gains = MMIO(PID_KI_BASE_ADDRESS,ADDRESS_RANGE1, False)\n",
    "kd_gains = MMIO(PID_KD_BASE_ADDRESS,ADDRESS_RANGE1, False)\n",
    "\n",
    "# setting PID gains for DEMO/debug\n",
    "kp_gains.write(index_0,0x666)   # Positon Roll  kp\n",
    "kp_gains.write(index_1,0x666)   # Positon Pitch kp\n",
    "kp_gains.write(index_2,0x666)   # Positon Yaw   kp\n",
    "kp_gains.write(index_3,0x666)   # Rate    Roll  kp\n",
    "kp_gains.write(index_4,0x666)   # Rate    Pitch kp\n",
    "kp_gains.write(index_5,0x666)   # Rate    yaw   kp\n",
    "\n",
    "ki_gains.write(index_0,0x0)   # Positon Roll   ki\n",
    "ki_gains.write(index_1,0x0)   # Positon Pitch  ki\n",
    "ki_gains.write(index_2,0x0)   # Rate    Roll   ki\n",
    "ki_gains.write(index_3,0x0)   # Rate    Pitch  ki\n",
    "\n",
    "kd_gains.write(index_0,0x4)   # Positon Roll   kd\n",
    "kd_gains.write(index_1,0x4)   # Positon Pitch  kd\n",
    "kd_gains.write(index_2,0x4)   # Rate    Roll   kd\n",
    "kd_gains.write(index_3,0x4)   # Rate    Pitch  kd\n",
    "\n",
    "# reading back PID gain values\n",
    "# kp\n",
    "test1 = kp_gains.read(index_0) * pow(2,-13)\n",
    "test2 = kp_gains.read(index_1) * pow(2,-13)\n",
    "test3 = kp_gains.read(index_2) * pow(2,-13)\n",
    "test4 = kp_gains.read(index_3) * pow(2,-13)\n",
    "test5 = kp_gains.read(index_4) * pow(2,-13)\n",
    "test6 = kp_gains.read(index_5) * pow(2,-13)\n",
    "print(\"kp:\", test1, test2, test3, test4, test5, test6)\n",
    "\n",
    "# ki\n",
    "test1 = ki_gains.read(index_0) * pow(2,-13)\n",
    "test2 = ki_gains.read(index_1) * pow(2,-13)\n",
    "test3 = ki_gains.read(index_2) * pow(2,-13)\n",
    "test4 = ki_gains.read(index_3) * pow(2,-13)\n",
    "print(\"ki:\", test1, test2, test3, test4)\n",
    "\n",
    "# kd\n",
    "test1 = kd_gains.read(index_0) * pow(2,-13)\n",
    "test2 = kd_gains.read(index_1) * pow(2,-13)\n",
    "test3 = kd_gains.read(index_2) * pow(2,-13)\n",
    "test4 = kd_gains.read(index_3) * pow(2,-13)\n",
    "print(\"kd:\", test1, test2, test3, test4)\n",
    "\n",
    "\n",
    "print('')\n",
    "print('done')"
   ]
  },
  {
   "cell_type": "markdown",
   "metadata": {},
   "source": [
    "### Configuring PWM Generator Frequency and Duty Cycle"
   ]
  },
  {
   "cell_type": "code",
   "execution_count": 8,
   "metadata": {},
   "outputs": [
    {
     "name": "stdout",
     "output_type": "stream",
     "text": [
      "Min Duty: 16128 Max Duty: 27424 Period: 35712\n"
     ]
    }
   ],
   "source": [
    "# creating MMIO objects\n",
    "PWM_Min_Duty = MMIO(PWM_MIN_DUTY_BASE_ADDRESS,ADDRESS_RANGE1, False)\n",
    "PWM_Max_Duty = MMIO(PWM_MAX_DUTY_BASE_ADDRESS,ADDRESS_RANGE1, False)\n",
    "PWM_Period = MMIO(PWM_PERIOD_ADDRESS,ADDRESS_RANGE1, False)\n",
    "\n",
    "\n",
    "# setting PWM Min/Max Duty Cycle and Period for DEMO/debug\n",
    "PWM_Min_Duty.write(index_0,0x3F00)   # PWM Min Duty Cycle\n",
    "PWM_Max_Duty.write(index_0,0x6B20)   # PWM Max Duty Cycle\n",
    "PWM_Period.write(index_0,0x8B80)     # PWM Period\n",
    "\n",
    "\n",
    "# Reading PWM Min/Max Duty Cycle and Period for DEMO/debug\n",
    "test1 = PWM_Min_Duty.read(index_0)\n",
    "test2 = PWM_Max_Duty.read(index_0)\n",
    "test3 = PWM_Period.read(index_0)\n",
    "print(\"Min Duty:\", test1,\"Max Duty:\", test2,\"Period:\", test3)\n",
    "\n"
   ]
  },
  {
   "cell_type": "markdown",
   "metadata": {},
   "source": [
    "### Creating MMIO Objects"
   ]
  },
  {
   "cell_type": "code",
   "execution_count": 9,
   "metadata": {},
   "outputs": [
    {
     "name": "stdout",
     "output_type": "stream",
     "text": [
      "UART16550 Core Configuration Complete\n",
      "\n",
      "done\n"
     ]
    }
   ],
   "source": [
    "\n",
    "# UART16650 Core\n",
    "UART_core = MMIO(UART_16550_BASE_ADDRESS,ADDRESS_RANGE4, False)                    # 64k\n",
    "UART_Driver = MMIO(UART_DRIVER_CTRL_BASE_ADDRESS,ADDRESS_RANGE1, False)            # 4k\n",
    "\n",
    "# RC Receiver Core\n",
    "RC_Driver = MMIO(RC_RECEIVER_CTRL_BASE_ADDRESS,ADDRESS_RANGE1, False)              # 4k\n",
    "RC_CMD_Data = MMIO(RC_RECEIVER_DATA_BASE_ADDRESS,ADDRESS_RANGE1, False)            # 4k\n",
    "\n",
    "# Flight Main Core\n",
    "Flight_Main_core = MMIO(FLIGHT_MAIN_CTRL_BASE_ADDRESS,ADDRESS_RANGE1, False)       # 4k\n",
    "Flight_Main_CMD_Data = MMIO(FLIGHT_MAIN_CMD_BASE_ADDRESS,ADDRESS_RANGE1, False)    # 4k\n",
    "Flight_Main_MEAS_Data = MMIO(FLIGHT_MAIN_MEAS_BASE_ADDRESS,ADDRESS_RANGE1, False)  # 4k\n",
    "\n",
    "# PID Core\n",
    "PID_core = MMIO(PID_CTRL_BASE_ADDRESS,ADDRESS_RANGE1, False)             # 4k\n",
    "PID_CMD_Data = MMIO(PID_INPUT_CMD_BASE_ADDRESS,ADDRESS_RANGE1, False)    # 4k\n",
    "PID_MEAS_Data = MMIO(PID_INPUT_MEAS_BASE_ADDRESS,ADDRESS_RANGE1, False)  # 4k\n",
    "\n",
    "# PWM Core\n",
    "PWM_core = MMIO(PWM_CTRL_BASE_ADDRESS,ADDRESS_RANGE1, False)             # 4k\n",
    "PWM_CMD_Data = MMIO(PWM_INPUT_CMD_BASE_ADDRESS,ADDRESS_RANGE1, False)    # 4k\n",
    "PWM_Test_Data = MMIO(PWM_TEST_DATA_BASE_ADDRESS,ADDRESS_RANGE3, False)   # 16k\n",
    "\n",
    "\n",
    "# UART scratch register address\n",
    "SCRATCH_REG      =   0x101C \n",
    "\n",
    "# setting WHO_AM_I value for debug\n",
    "#UART_core.write(SCRATCH_REG,0xFF)\n",
    "\n",
    "print('UART16550 Core Configuration Complete')\n",
    "print('')\n",
    "print('done')"
   ]
  },
  {
   "cell_type": "markdown",
   "metadata": {},
   "source": [
    "### Starting HLS Cores"
   ]
  },
  {
   "cell_type": "code",
   "execution_count": 10,
   "metadata": {},
   "outputs": [
    {
     "name": "stdout",
     "output_type": "stream",
     "text": [
      "CONFIG_REG UART: \t 131\n",
      "CONFIG_REG RC: \t\t 131\n",
      "CONFIG_REG Flight Main:  131\n",
      "CONFIG_REG PID: \t 131\n",
      "CONFIG_REG PWM: \t 131\n",
      "\n",
      "\n"
     ]
    }
   ],
   "source": [
    "# NOTE, starting last core in chain first\n",
    "# PWM -> PID -> FLight_Main -> RC_Receiver -> UART_Driver\n",
    "\n",
    "# setting ap_start/auto reset on PWM core\n",
    "#PWM_core.write(0x00,0x01)  # runs once\n",
    "PWM_core.write(0x00,0x81) # runs continuously\n",
    "\n",
    "# setting ap_start/auto reset on PID core\n",
    "#PID_core.write(0x00,0x01)  # runs once\n",
    "PID_core.write(0x00,0x81) # runs continuously\n",
    "\n",
    "# setting ap_start/auto reset on Flight main\n",
    "#Flight_Main_core.write(0x00,0x01)  # runs once\n",
    "Flight_Main_core.write(0x00,0x81) # runs continuously\n",
    "\n",
    "# setting ap_start/auto reset on RC Receiver\n",
    "#RC_Driver.write(0x00,0x01)  # runs once\n",
    "RC_Driver.write(0x00,0x81) # runs continuously\n",
    "\n",
    "# setting ap_start/auto reset on UART Driver\n",
    "#UART_Driver.write(0x00,0x01)  # runs once\n",
    "UART_Driver.write(0x00,0x81) # runs continuously\n",
    "\n",
    "\n",
    "# reading back CONFIG registers for HLS cores\n",
    "CONFIG_REG5 = PWM_core.read(0x00)\n",
    "CONFIG_REG4 = PID_core.read(0x00)\n",
    "CONFIG_REG3 = Flight_Main_core.read(0x00)\n",
    "CONFIG_REG2 = RC_Driver.read(0x00)\n",
    "CONFIG_REG1 = UART_Driver.read(0x00)\n",
    "\n",
    "\n",
    "print('CONFIG_REG UART: \\t', CONFIG_REG1)\n",
    "print('CONFIG_REG RC: \\t\\t', CONFIG_REG2)\n",
    "print('CONFIG_REG Flight Main: ', CONFIG_REG3)\n",
    "print('CONFIG_REG PID: \\t', CONFIG_REG4)\n",
    "print('CONFIG_REG PWM: \\t', CONFIG_REG5)\n",
    "print('')\n",
    "print('')"
   ]
  },
  {
   "cell_type": "markdown",
   "metadata": {},
   "source": [
    "### UART Driver Configuration Confirmation and Status"
   ]
  },
  {
   "cell_type": "code",
   "execution_count": 11,
   "metadata": {},
   "outputs": [
    {
     "name": "stdout",
     "output_type": "stream",
     "text": [
      "WHO_AM_I: \t 69\n",
      "OVERRUN_ERROR: \t 0 \r\n",
      "\n",
      "done\n"
     ]
    }
   ],
   "source": [
    "\n",
    "# UART16650 Line status register offset\n",
    "LINE_STATUS_REG  =   0x1014 \n",
    "\n",
    "# reading scratch register for configuration verification, expect 0x45\n",
    "test_read = UART_core.read(SCRATCH_REG)\n",
    "print('WHO_AM_I: \\t', test_read)\n",
    "\n",
    "# reading FIFO status of UART core\n",
    "# Overrun Error = 1 indicates RX FIFO Overflow\n",
    "OVERRUN_ERROR = UART_core.read(LINE_STATUS_REG)\n",
    "OVERRUN_ERROR = OVERRUN_ERROR & 0x02 # grabbing bit 1\n",
    "print('OVERRUN_ERROR: \\t', OVERRUN_ERROR,'\\r')\n",
    "\n",
    "\n",
    "print('')\n",
    "print('done')"
   ]
  },
  {
   "cell_type": "code",
   "execution_count": 27,
   "metadata": {},
   "outputs": [
    {
     "name": "stdout",
     "output_type": "stream",
     "text": [
      "M1 out PID: \t 62776.999\n",
      "M2 out PID: \t 62840.999\n",
      "M3 out PID: \t 62840.999\n",
      "M4 out PID: \t 62776.999\n",
      "M5 out PID: \t 0.000\n",
      "M6 out PID: \t 0.000\n",
      "M7 out PID: \t 0.000\n",
      "M8 out PID: \t 0.000\n",
      "ARM State: \t 0\n",
      "\n",
      "done\n"
     ]
    }
   ],
   "source": [
    "PWM_CMD_Data\n",
    "\n",
    "#motor outputs\n",
    "TEST_READ1  = PWM_CMD_Data.read(index_0)\n",
    "TEST_READ2  = PWM_CMD_Data.read(index_1)\n",
    "TEST_READ3  = PWM_CMD_Data.read(index_2)\n",
    "TEST_READ4 = PWM_CMD_Data.read(index_3)\n",
    "TEST_READ5 = PWM_CMD_Data.read(index_4)\n",
    "TEST_READ6 = PWM_CMD_Data.read(index_5)\n",
    "TEST_READ7 = PWM_CMD_Data.read(index_6)\n",
    "TEST_READ8 = PWM_CMD_Data.read(index_7)\n",
    "TEST_READ9 = PWM_CMD_Data.read(index_8)\n",
    "\n",
    "print('M1 out PID: \\t', \"%1.3F\"% (TEST_READ1 * pow(2,-13)))\n",
    "print('M2 out PID: \\t', \"%1.3F\"% (TEST_READ2 * pow(2,-13)))\n",
    "print('M3 out PID: \\t', \"%1.3F\"% (TEST_READ3 * pow(2,-13)))\n",
    "print('M4 out PID: \\t', \"%1.3F\"% (TEST_READ4 * pow(2,-13)))\n",
    "print('M5 out PID: \\t', \"%1.3F\"% (TEST_READ5 * pow(2,-13)))\n",
    "print('M6 out PID: \\t', \"%1.3F\"% (TEST_READ6 * pow(2,-13)))\n",
    "print('M7 out PID: \\t', \"%1.3F\"% (TEST_READ7 * pow(2,-13)))\n",
    "print('M8 out PID: \\t', \"%1.3F\"% (TEST_READ8 * pow(2,-13)))\n",
    "print('ARM State: \\t', \"%1d\"% (TEST_READ9 * pow(2,-13)))\n",
    "\n",
    "\n",
    "print('')\n",
    "print('done')\n"
   ]
  },
  {
   "cell_type": "markdown",
   "metadata": {},
   "source": [
    "# RC Receiver Data Flow to PID controller Real-Time DEMO"
   ]
  },
  {
   "cell_type": "code",
   "execution_count": 13,
   "metadata": {},
   "outputs": [
    {
     "name": "stdout",
     "output_type": "stream",
     "text": [
      "\n",
      "\n",
      "M1:  0 M2:  0 M3:  0 M4:  0 M5:  0 M6:  0 M7:  0 M8:  0   \r"
     ]
    },
    {
     "ename": "KeyboardInterrupt",
     "evalue": "",
     "output_type": "error",
     "traceback": [
      "\u001b[0;31m---------------------------------------------------------------------------\u001b[0m",
      "\u001b[0;31mKeyboardInterrupt\u001b[0m                         Traceback (most recent call last)",
      "\u001b[0;32m<ipython-input-13-1a0fab56f678>\u001b[0m in \u001b[0;36m<module>\u001b[0;34m()\u001b[0m\n\u001b[1;32m     22\u001b[0m     \u001b[0mprint\u001b[0m\u001b[0;34m(\u001b[0m\u001b[0;34m'M1: '\u001b[0m\u001b[0;34m,\u001b[0m \u001b[0;34m(\u001b[0m\u001b[0mTEST_READ1\u001b[0m\u001b[0;34m)\u001b[0m\u001b[0;34m,\u001b[0m\u001b[0;34m'M2: '\u001b[0m\u001b[0;34m,\u001b[0m \u001b[0;34m(\u001b[0m\u001b[0mTEST_READ2\u001b[0m\u001b[0;34m)\u001b[0m\u001b[0;34m,\u001b[0m\u001b[0;34m'M3: '\u001b[0m\u001b[0;34m,\u001b[0m \u001b[0;34m(\u001b[0m\u001b[0mTEST_READ3\u001b[0m\u001b[0;34m)\u001b[0m\u001b[0;34m,\u001b[0m\u001b[0;34m'M4: '\u001b[0m\u001b[0;34m,\u001b[0m \u001b[0;34m(\u001b[0m\u001b[0mTEST_READ4\u001b[0m\u001b[0;34m)\u001b[0m\u001b[0;34m,\u001b[0m\u001b[0;34m'M5: '\u001b[0m\u001b[0;34m,\u001b[0m \u001b[0;34m(\u001b[0m\u001b[0mTEST_READ5\u001b[0m\u001b[0;34m)\u001b[0m\u001b[0;34m,\u001b[0m\u001b[0;34m'M6: '\u001b[0m\u001b[0;34m,\u001b[0m \u001b[0;34m(\u001b[0m\u001b[0mTEST_READ6\u001b[0m\u001b[0;34m)\u001b[0m\u001b[0;34m,\u001b[0m\u001b[0;34m'M7: '\u001b[0m\u001b[0;34m,\u001b[0m \u001b[0;34m(\u001b[0m\u001b[0mTEST_READ7\u001b[0m\u001b[0;34m)\u001b[0m\u001b[0;34m,\u001b[0m\u001b[0;34m'M8: '\u001b[0m\u001b[0;34m,\u001b[0m \u001b[0;34m(\u001b[0m\u001b[0mTEST_READ8\u001b[0m\u001b[0;34m)\u001b[0m\u001b[0;34m,\u001b[0m\u001b[0;34m'  '\u001b[0m\u001b[0;34m,\u001b[0m \u001b[0mend\u001b[0m\u001b[0;34m=\u001b[0m\u001b[0;34m'\\r'\u001b[0m\u001b[0;34m)\u001b[0m\u001b[0;34m\u001b[0m\u001b[0m\n\u001b[1;32m     23\u001b[0m \u001b[0;34m\u001b[0m\u001b[0m\n\u001b[0;32m---> 24\u001b[0;31m     \u001b[0mtime\u001b[0m\u001b[0;34m.\u001b[0m\u001b[0msleep\u001b[0m\u001b[0;34m(\u001b[0m\u001b[0;36m0.25\u001b[0m\u001b[0;34m)\u001b[0m\u001b[0;34m\u001b[0m\u001b[0m\n\u001b[0m\u001b[1;32m     25\u001b[0m     \u001b[0msys\u001b[0m\u001b[0;34m.\u001b[0m\u001b[0mstdout\u001b[0m\u001b[0;34m.\u001b[0m\u001b[0mflush\u001b[0m\u001b[0;34m(\u001b[0m\u001b[0;34m)\u001b[0m\u001b[0;34m\u001b[0m\u001b[0m\n\u001b[1;32m     26\u001b[0m     \u001b[0mcount\u001b[0m \u001b[0;34m=\u001b[0m \u001b[0mcount\u001b[0m \u001b[0;34m+\u001b[0m \u001b[0;36m1\u001b[0m\u001b[0;34m\u001b[0m\u001b[0m\n",
      "\u001b[0;31mKeyboardInterrupt\u001b[0m: "
     ]
    }
   ],
   "source": [
    "# X8 Flight Controller Demo - RC controls\n",
    "from __future__ import print_function\n",
    "import sys\n",
    "count = 0\n",
    "\n",
    "print('')\n",
    "print('')\n",
    "while(count < 10000):\n",
    "    \n",
    "    # reading PWM Outputs\n",
    "    TEST_READ1  = PWM_Test_Data.read(index_0)\n",
    "    TEST_READ2  = PWM_Test_Data.read(index_1)\n",
    "    TEST_READ3  = PWM_Test_Data.read(index_2)\n",
    "    TEST_READ4  = PWM_Test_Data.read(index_3)\n",
    "    TEST_READ5  = PWM_Test_Data.read(index_4)\n",
    "    TEST_READ6  = PWM_Test_Data.read(index_5)\n",
    "    TEST_READ7  = PWM_Test_Data.read(index_6)\n",
    "    TEST_READ8  = PWM_Test_Data.read(index_7)\n",
    "    \n",
    "\n",
    "    #print('')\n",
    "    print('M1: ', (TEST_READ1),'M2: ', (TEST_READ2),'M3: ', (TEST_READ3),'M4: ', (TEST_READ4),'M5: ', (TEST_READ5),'M6: ', (TEST_READ6),'M7: ', (TEST_READ7),'M8: ', (TEST_READ8),'  ', end='\\r')\n",
    "    \n",
    "    time.sleep(0.25) \n",
    "    sys.stdout.flush()\n",
    "    count = count + 1\n",
    "print(\"\")"
   ]
  },
  {
   "cell_type": "markdown",
   "metadata": {},
   "source": [
    "### End of DEMO code"
   ]
  },
  {
   "cell_type": "code",
   "execution_count": null,
   "metadata": {},
   "outputs": [],
   "source": []
  }
 ],
 "metadata": {
  "kernelspec": {
   "display_name": "Python 3",
   "language": "python",
   "name": "python3"
  },
  "language_info": {
   "codemirror_mode": {
    "name": "ipython",
    "version": 3
   },
   "file_extension": ".py",
   "mimetype": "text/x-python",
   "name": "python",
   "nbconvert_exporter": "python",
   "pygments_lexer": "ipython3",
   "version": "3.6.5"
  }
 },
 "nbformat": 4,
 "nbformat_minor": 2
}
