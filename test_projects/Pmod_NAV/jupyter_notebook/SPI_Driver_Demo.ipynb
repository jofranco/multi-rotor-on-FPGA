{
 "cells": [
  {
   "cell_type": "markdown",
   "metadata": {},
   "source": [
    "# WES 207 Demo Code"
   ]
  },
  {
   "cell_type": "code",
   "execution_count": 1,
   "metadata": {},
   "outputs": [
    {
     "data": {
      "application/javascript": [
       "\n",
       "require(['notebook/js/codecell'], function(codecell) {\n",
       "  codecell.CodeCell.options_default.highlight_modes[\n",
       "      'magic_text/x-csrc'] = {'reg':[/^%%microblaze/]};\n",
       "  Jupyter.notebook.events.one('kernel_ready.Kernel', function(){\n",
       "      Jupyter.notebook.get_cells().map(function(cell){\n",
       "          if (cell.cell_type == 'code'){ cell.auto_highlight(); } }) ;\n",
       "  });\n",
       "});\n"
      ]
     },
     "metadata": {},
     "output_type": "display_data"
    },
    {
     "name": "stdout",
     "output_type": "stream",
     "text": [
      "done\n"
     ]
    }
   ],
   "source": [
    "from pynq import Overlay\n",
    "from pynq import MMIO\n",
    "import time\n",
    "import numpy as np\n",
    "\n",
    "print('done')"
   ]
  },
  {
   "cell_type": "markdown",
   "metadata": {},
   "source": [
    "## Load Bitstream"
   ]
  },
  {
   "cell_type": "code",
   "execution_count": 2,
   "metadata": {},
   "outputs": [
    {
     "name": "stdout",
     "output_type": "stream",
     "text": [
      "done\n",
      "  \n",
      "0.41525745391845703 seconds to program bitstream\n"
     ]
    }
   ],
   "source": [
    "ol = Overlay('AXI_SPI_BUS_PMOD_NAV_52.bit')\n",
    "\n",
    "# Download bitstream to FPGA\n",
    "t_before_bitstream = time.time()\n",
    "ol.download()\n",
    "t_after_bitstream = time.time()\n",
    "\n",
    "print('done')\n",
    "print('  ')\n",
    "print(t_after_bitstream - t_before_bitstream, 'seconds to program bitstream')"
   ]
  },
  {
   "cell_type": "markdown",
   "metadata": {},
   "source": [
    "## Initializing MMIO objects for IP core debug"
   ]
  },
  {
   "cell_type": "code",
   "execution_count": 3,
   "metadata": {},
   "outputs": [
    {
     "name": "stdout",
     "output_type": "stream",
     "text": [
      " \n",
      "done\n"
     ]
    }
   ],
   "source": [
    "# new core test\n",
    "\n",
    "# testing SPI output\n",
    "\n",
    "# SPI CORE config\n",
    "QUAD_SPI_BASE_ADDERSS = 0x41E00000\n",
    "SPI_DRIVER_BASE_ADDRESS = 0x40000000\n",
    "SPI_DRIVER_DATA_ADDRESS = 0x40004000\n",
    "\n",
    "ADDRESS_RANGE = 0x1000 # 4k size\n",
    "ADDRESS_RANGE_16K = 0x4000 # 16k size\n",
    "\n",
    "# creating MMIO objects\n",
    "QSPI_CORE = MMIO(QUAD_SPI_BASE_ADDERSS,ADDRESS_RANGE)#, True)\n",
    "SPI_DRIVER = MMIO(SPI_DRIVER_BASE_ADDRESS,ADDRESS_RANGE)#, True)\n",
    "SPI_DATA = MMIO(SPI_DRIVER_DATA_ADDRESS,ADDRESS_RANGE_16K)#,True)\n",
    "\n",
    "navDataState = 0\n",
    "\n",
    "print(' ')\n",
    "print('done')"
   ]
  },
  {
   "cell_type": "markdown",
   "metadata": {},
   "source": [
    "### Reading CTRL register from HLS core"
   ]
  },
  {
   "cell_type": "code",
   "execution_count": 4,
   "metadata": {},
   "outputs": [
    {
     "name": "stdout",
     "output_type": "stream",
     "text": [
      "\n",
      "Calling SPI_Driver.read(0x00):\n",
      "4\n",
      "done\n"
     ]
    }
   ],
   "source": [
    "test = SPI_DRIVER.read(0x00)\n",
    "print('\\nCalling SPI_Driver.read(0x00):')\n",
    "print(test)\n",
    "\n",
    "print('done')"
   ]
  },
  {
   "cell_type": "markdown",
   "metadata": {},
   "source": [
    "### Writing ap_start and auto_restart CTRL bits in HLS core"
   ]
  },
  {
   "cell_type": "code",
   "execution_count": 5,
   "metadata": {},
   "outputs": [
    {
     "name": "stdout",
     "output_type": "stream",
     "text": [
      "\n",
      "Calling SPI_DRIVER.write(0x00,0x01)\n",
      "Calling SPI_Driver.read(0x00):\n",
      "6\n",
      "done\n"
     ]
    }
   ],
   "source": [
    "# setting ap_start/auto reset on SPI Driver\n",
    "\n",
    "SPI_DRIVER.write(0x00,0x01) #runs once\n",
    "#SPI_DRIVER.write(0x00,0x81) #runs continuously, see xax_spi_driver_hw.h\n",
    "\n",
    "READ = SPI_DRIVER.read(0x00)\n",
    "print('\\nCalling SPI_DRIVER.write(0x00,0x01)')\n",
    "print('Calling SPI_Driver.read(0x00):')\n",
    "print(READ)\n",
    "\n",
    "print('done')"
   ]
  },
  {
   "cell_type": "markdown",
   "metadata": {},
   "source": [
    "## Read from SPI_DATA (output of custom HLS AXI SPI Driver core)"
   ]
  },
  {
   "cell_type": "code",
   "execution_count": 6,
   "metadata": {},
   "outputs": [
    {
     "name": "stdout",
     "output_type": "stream",
     "text": [
      "\n",
      "done\n"
     ]
    }
   ],
   "source": [
    "# defining MMIO index offsets\n",
    "index_0 = 0x00\n",
    "index_1 = 0x04\n",
    "index_2 = 0x08\n",
    "index_3 = 0x0C\n",
    "index_4 = 0x10\n",
    "index_5 = 0x14\n",
    "index_6 = 0x18\n",
    "index_7 = 0x1C\n",
    "index_8 = 0x20\n",
    "index_9 = 0x24\n",
    "index_10 = 0x28\n",
    "index_11 = 0x2C\n",
    "index_12 = 0x30\n",
    "index_13 = 0x34\n",
    "index_14 = 0x38\n",
    "index_15 = 0x3C\n",
    "index_16 = 0x40\n",
    "index_17 = 0x44\n",
    "index_18 = 0x48\n",
    "index_19 = 0x4C\n",
    "index_20 = 0x50\n",
    "index_21 = 0x54\n",
    "index_22 = 0x58\n",
    "index_23 = 0x5C\n",
    "index_24 = 0x60\n",
    "index_25 = 0x64\n",
    "index_26 = 0x68\n",
    "index_27 = 0x6C\n",
    "index_28 = 0x70\n",
    "index_29 = 0x74\n",
    "print('')\n",
    "print('done')\n",
    "\n",
    "\n",
    "SPICR = 0x60\n",
    "DATA_MASK_SHORT = 0x0000FFFF"
   ]
  },
  {
   "cell_type": "code",
   "execution_count": 7,
   "metadata": {},
   "outputs": [
    {
     "name": "stdout",
     "output_type": "stream",
     "text": [
      "0 Receive FIFO Occupancy\n",
      "0 High when the receive FIFO is empty\n",
      "\n",
      "--- Reading Raw Nav Data --\n",
      "accX: \n",
      "tempLow:  0 tempHigh:  0 tempCombined:  69\n",
      "tempCombined (int16):  69 \n",
      "\n",
      "accY: \n",
      "tempLow:  0 tempHigh:  0 tempCombined:  0\n",
      "tempCombined (int16):  0 \n",
      "\n",
      "accZ: \n",
      "tempLow:  0 tempHigh:  0 tempCombined:  0\n",
      "tempCombined (int16):  0 \n",
      "\n",
      "gyroX: \n",
      "tempLow:  0 tempHigh:  0 tempCombined:  59\n",
      "tempCombined (int16):  59 \n",
      "\n",
      "gyroY: \n",
      "tempLow:  0 tempHigh:  0 tempCombined:  0\n",
      "tempCombined (int16):  0 \n",
      "\n",
      "gyroZ: \n",
      "tempLow:  0 tempHigh:  0 tempCombined:  0\n",
      "tempCombined (int16):  0 \n",
      "\n",
      "\n",
      "--- State Machine Status--\n",
      "Nav Data State:  0\n",
      " \n",
      "done\n"
     ]
    }
   ],
   "source": [
    "#Debug code for *50.bit and on\n",
    "\n",
    "# Been running below line of code in Driver State 5\n",
    "#QSPI_CORE.write(SPICR,0x46) # configure the QSPI along with resetting the FIFO (do right before a read)\n",
    "\n",
    "TEST_READ0 = QSPI_CORE.read(0x78) # Recieve FIFO Occupancy (returns n-1 occupancy)\n",
    "print(TEST_READ0, 'Receive FIFO Occupancy')\n",
    "\n",
    "#TEST_READ = QSPI_CORE.read(0x6C) #Read from FIFO\n",
    "#print(TEST_READ, TEST_READ & 0x00FF, np.int16(TEST_READ), 'Read from FIFO')\n",
    "\n",
    "TEST_READ100 = QSPI_CORE.read(0x64) #this bit is set High when the receive FIFO is empty\n",
    "print(TEST_READ100 & 0x1, 'High when the receive FIFO is empty')\n",
    "\n",
    "\n",
    "print('\\n--- Reading Raw Nav Data --')\n",
    "# Acceleromoter \n",
    "TEST_READ1 = SPI_DATA.read(index_0)\n",
    "TEST_READ2 = SPI_DATA.read(index_1)\n",
    "TEST_READ3 = SPI_DATA.read(index_2)\n",
    "\n",
    "TEST_READ4 = SPI_DATA.read(index_3)\n",
    "TEST_READ5 = SPI_DATA.read(index_4)\n",
    "TEST_READ6 = SPI_DATA.read(index_5)\n",
    "\n",
    "TEST_READ7 = SPI_DATA.read(index_6)\n",
    "TEST_READ8 = SPI_DATA.read(index_7)\n",
    "TEST_READ9 = SPI_DATA.read(index_8)\n",
    "print('accX: ')\n",
    "print('tempLow: ', TEST_READ1, 'tempHigh: ', TEST_READ2, 'tempCombined: ', TEST_READ3)\n",
    "print('tempCombined (int16): ', np.int16(TEST_READ3),'\\n')\n",
    "print('accY: ')\n",
    "print('tempLow: ', TEST_READ4, 'tempHigh: ', TEST_READ5, 'tempCombined: ', TEST_READ6)\n",
    "print('tempCombined (int16): ', np.int16(TEST_READ6),'\\n')\n",
    "print('accZ: ')\n",
    "print('tempLow: ', TEST_READ7, 'tempHigh: ', TEST_READ8, 'tempCombined: ', TEST_READ9)\n",
    "print('tempCombined (int16): ', np.int16(TEST_READ9),'\\n')\n",
    "#print('accX: ', TEST_READ1, 'accY: ', TEST_READ2, 'accZ: ', TEST_READ3)\n",
    "#Gyroscope\n",
    "TEST_READ10 = SPI_DATA.read(index_9)\n",
    "TEST_READ11 = SPI_DATA.read(index_10)\n",
    "TEST_READ12 = SPI_DATA.read(index_11)\n",
    "\n",
    "TEST_READ13 = SPI_DATA.read(index_12)\n",
    "TEST_READ14 = SPI_DATA.read(index_13)\n",
    "TEST_READ15 = SPI_DATA.read(index_14)\n",
    "\n",
    "TEST_READ16 = SPI_DATA.read(index_15)\n",
    "TEST_READ17 = SPI_DATA.read(index_16)\n",
    "TEST_READ18 = SPI_DATA.read(index_17)\n",
    "print('gyroX: ')\n",
    "print('tempLow: ', TEST_READ10, 'tempHigh: ', TEST_READ11, 'tempCombined: ', TEST_READ12)\n",
    "print('tempCombined (int16): ', np.int16(TEST_READ12),'\\n')\n",
    "print('gyroY: ')\n",
    "print('tempLow: ', TEST_READ13, 'tempHigh: ', TEST_READ14, 'tempCombined: ', TEST_READ15)\n",
    "print('tempCombined (int16): ', np.int16(TEST_READ15),'\\n')\n",
    "print('gyroZ: ')\n",
    "print('tempLow: ', TEST_READ16, 'tempHigh: ', TEST_READ17, 'tempCombined: ', TEST_READ18)\n",
    "print('tempCombined (int16): ', np.int16(TEST_READ18),'\\n')\n",
    "\n",
    "#print('\\n--- Reading Int Raw Nav Data --')\n",
    "#accX = np.int16(TEST_READ1 & DATA_MASK_SHORT)\n",
    "#accY = np.int16(TEST_READ2 & DATA_MASK_SHORT)\n",
    "#accZ = np.int16(TEST_READ3 & DATA_MASK_SHORT)\n",
    "#gyroX = np.int16(TEST_READ4 & DATA_MASK_SHORT)\n",
    "#gyroY = np.int16(TEST_READ5 & DATA_MASK_SHORT)\n",
    "#gyroZ = np.int16(TEST_READ6 & DATA_MASK_SHORT)\n",
    "#print('accX: ', accX, 'accY: ', accY, 'accZ: ', accZ)\n",
    "#print('gyroX: ',gyroX,  'gyroY: ', gyroY, 'gyroZ: ', gyroZ)\n",
    "\n",
    "\n",
    "print('\\n--- State Machine Status--')\n",
    "TEST_READ21 = SPI_DATA.read(index_10)\n",
    "print('Nav Data State: ', TEST_READ21)\n",
    "\n",
    "print(' ')\n",
    "print('done')"
   ]
  },
  {
   "cell_type": "code",
   "execution_count": 8,
   "metadata": {},
   "outputs": [
    {
     "name": "stdout",
     "output_type": "stream",
     "text": [
      "65535 255 -1 Read from FIFO\n"
     ]
    }
   ],
   "source": [
    "TEST_READ = QSPI_CORE.read(0x6C) #Read from FIFO\n",
    "print(TEST_READ, TEST_READ & 0x00FF, np.int16(TEST_READ), 'Read from FIFO')"
   ]
  },
  {
   "cell_type": "code",
   "execution_count": null,
   "metadata": {},
   "outputs": [],
   "source": []
  }
 ],
 "metadata": {
  "kernelspec": {
   "display_name": "Python 3",
   "language": "python",
   "name": "python3"
  },
  "language_info": {
   "codemirror_mode": {
    "name": "ipython",
    "version": 3
   },
   "file_extension": ".py",
   "mimetype": "text/x-python",
   "name": "python",
   "nbconvert_exporter": "python",
   "pygments_lexer": "ipython3",
   "version": "3.6.5"
  }
 },
 "nbformat": 4,
 "nbformat_minor": 2
}
