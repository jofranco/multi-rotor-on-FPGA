{
 "cells": [
  {
   "cell_type": "markdown",
   "metadata": {},
   "source": [
    "# Kalman Filter Design for Pmod Nav"
   ]
  },
  {
   "cell_type": "markdown",
   "metadata": {},
   "source": [
    "Simulate Pmod Nav Sensor to test Kalman Filter. Initialized with angle position, angle rate and noise standard deviation. Each call to `read()` updates the position by one time step and returns the new measurement."
   ]
  },
  {
   "cell_type": "code",
   "execution_count": 2,
   "metadata": {},
   "outputs": [],
   "source": [
    "from numpy.random import randn\n",
    "\n",
    "class NavSensor(object):\n",
    "    def __init__(self, angle=(0, 0, 0), angle_rate=(0, 0 ,0), noise_std=1.):\n",
    "        self.angle_rate = angle_rate\n",
    "        self.noise_std = noise_std\n",
    "        self.angle = [angle[0], angle[1], angle[2]]\n",
    "        \n",
    "    def read(self):\n",
    "        self.angle[0] += self.angle_rate[0]\n",
    "        self.angle[1] += self.angle_rate[1]\n",
    "        self.angle[2] += self.angle_rate[2]\n",
    "        \n",
    "        return [self.angle[0] + randn() * self.noise_std,\n",
    "                self.angle[1] + randn() * self.noise_std,\n",
    "                self.angle[2] + randn() * self.noise_std]"
   ]
  },
  {
   "cell_type": "markdown",
   "metadata": {},
   "source": [
    "Testing that sensor simulation works"
   ]
  },
  {
   "cell_type": "code",
   "execution_count": 3,
   "metadata": {},
   "outputs": [],
   "source": [
    "import matplotlib.pyplot as plt\n",
    "import numpy as np\n",
    "\n",
    "angle, angle_rate = (0, 0, 0), (1, 5, 10)\n",
    "sensor = NavSensor(angle, angle_rate, noise_std=1)\n",
    "ns = np.array([sensor.read() for _ in range(50)])\n",
    "x_line = np.linspace(0,50)\n",
    "plt.plot(x_line,ns[:, 0]);\n",
    "plt.plot(x_line,ns[:, 1]);\n",
    "plt.plot(x_line,ns[:, 2]);"
   ]
  },
  {
   "cell_type": "markdown",
   "metadata": {},
   "source": [
    "Below are the steps that I've taken to design Kalman filter"
   ]
  },
  {
   "cell_type": "markdown",
   "metadata": {},
   "source": [
    "### Choose the State Variables"
   ]
  },
  {
   "cell_type": "markdown",
   "metadata": {},
   "source": [
    "Recall that the Kalman filter state transition must be written as $\\mathbf{\\bar x} = \\mathbf{Fx} + \\mathbf{Bu} + \\mathbf{Gw}$, which means we must calculate the current state from the previous state. The matrix $\\mathbf{B}$ models how the control inputs affect the behavior of the system. The vector $\\mathbf{u}$ lets you specify a control input into the filter. $\\mathbf{w}$ is white noise with known covariance. For our sensor the control input will be gravity. For now, we design the state variable to be\n",
    "\n",
    "$$\n",
    "\\mathbf x = \n",
    "\\begin{bmatrix}\\phi & r_\\phi & \\theta & r_\\theta & \\psi & r_\\psi\n",
    "\\end{bmatrix}^\\mathsf T\n",
    "$$\n",
    "\n",
    "$\\phi$ $\\theta$ $\\psi$ represent Euler\n",
    "angles with respect to the inertial frame (roll, pitch, yaw)\n",
    "\n",
    "\n",
    "$r_\\phi$ $r_\\theta$ $r_\\psi$ represent Euler angle rates with respect to the inertial frame (gyroscope)\n",
    "\n",
    "----------------------------------------------------------\n",
    "Other variable descriptions:\n",
    "\n",
    "$u$ $v$ $w$ represent acceleration expressed in the body frame (accelerometer)"
   ]
  },
  {
   "cell_type": "markdown",
   "metadata": {},
   "source": [
    "### Design State Transition Function\n",
    "\n",
    "Our next step is to design the state transition function. Recall that the state transition function is implemented as a matrix $\\mathbf F$ that we multiply with the previous state of our system to get the next state, or prior $\\bar{\\mathbf x} = \\mathbf{Fx}$."
   ]
  },
  {
   "cell_type": "markdown",
   "metadata": {},
   "source": [
    "State equations for Euler angles\n",
    "\n",
    "\n",
    "$$\n",
    "\\begin{aligned}\n",
    "\\bar \\phi &= (1 * \\phi) + (\\Delta t * r_\\phi) + (0*\\theta) + (0*r_\\theta) + (0*\\psi) + (0*r_\\psi) \\\\\n",
    "\\bar r_\\phi &= (0 * \\phi) + (1 * r_\\phi) + (0*\\theta) + (0*r_\\theta) + (0*\\psi) + (0*r_\\psi) \\\\\n",
    "\\bar \\theta &= (0*\\phi) + (0* r_\\phi) + (1 * \\theta) + (\\Delta t * r_\\theta) + (0*\\psi) + (0*r_\\psi) \\\\\n",
    "\\bar r_\\theta &= (0*\\phi) + (0* r_\\phi) + (0 * \\theta) + (1 * r_\\theta) + (0*\\psi) + (0*r_\\psi) \\\\\n",
    "\\bar \\psi &= (0*\\phi) + (0*r_\\phi) + (0*\\theta) + (0*r_\\theta) + (1 * \\psi) + (\\Delta t * r_\\psi) \\\\\n",
    "\\bar r_\\psi &= (0*\\phi) + (0*r_\\phi) + (0*\\theta) + (0*r_\\theta) + (0 * \\psi) + (1 * r_\\psi) \\\\\n",
    "\\end{aligned}\n",
    "$$"
   ]
  },
  {
   "cell_type": "markdown",
   "metadata": {},
   "source": [
    "Converting to matrix-vector form:\n",
    "\n",
    "$$\n",
    "\\begin{bmatrix}\\bar \\phi \\\\ \\bar r_\\phi \\\\ \\bar \\theta \\\\ \\bar r_\\theta \\\\ \\bar \\psi \\\\ \\bar r_\\theta \\end{bmatrix} = \\begin{bmatrix}1& \\Delta t& 0& 0 & 0 & 0\\\\0& 1& 0& 0 &0 & 0\\\\0& 0& 1& \\Delta t & 0 & 0\\\\ 0& 0& 0& 1 &0 &0 \\\\0&0&0&0&1& \\Delta t\\\\ 0&0&0&0&0&1\\end{bmatrix}\\begin{bmatrix}\\phi \\\\ r_\\phi \\\\ \\theta \\\\ r_\\theta \\\\ \\psi \\\\ r_\\psi \\end{bmatrix}$$"
   ]
  },
  {
   "cell_type": "code",
   "execution_count": 4,
   "metadata": {},
   "outputs": [],
   "source": [
    "from filterpy.kalman import KalmanFilter\n",
    "\n",
    "tracker = KalmanFilter(dim_x=6, dim_z=2)\n",
    "dt = 1.   # time step 1 second\n",
    "\n",
    "tracker.F = np.array([[1,  dt, 0,  0,  0, 0],\n",
    "                      [0,  1,  0,  0,  0, 0],\n",
    "                      [0,  0,  1,  dt, 0, 0],\n",
    "                      [0,  0,  0,  1,  0, 0],\n",
    "                      [0,  0,  0,  0,  1, dt],\n",
    "                      [0,  0,  0,  0,  0, 1]])"
   ]
  },
  {
   "cell_type": "markdown",
   "metadata": {},
   "source": [
    "### Design the Process Noise Matrix\n",
    "\n",
    "FilterPy can compute the $\\mathbf Q$ matrix for us. For simplicity I will assume the noise is a discrete time Wiener process - that it is constant for each time period. This assumption allows me to use a variance to specify how much I think the model changes between steps."
   ]
  },
  {
   "cell_type": "code",
   "execution_count": 5,
   "metadata": {},
   "outputs": [
    {
     "name": "stdout",
     "output_type": "stream",
     "text": [
      "[[0.00025 0.0005  0.0005  0.      0.      0.     ]\n",
      " [0.0005  0.001   0.001   0.      0.      0.     ]\n",
      " [0.0005  0.001   0.001   0.      0.      0.     ]\n",
      " [0.      0.      0.      0.00025 0.0005  0.0005 ]\n",
      " [0.      0.      0.      0.0005  0.001   0.001  ]\n",
      " [0.      0.      0.      0.0005  0.001   0.001  ]]\n"
     ]
    }
   ],
   "source": [
    "from scipy.linalg import block_diag\n",
    "from filterpy.common import Q_discrete_white_noise\n",
    "\n",
    "q = Q_discrete_white_noise(dim=3, dt=dt, var=0.001)\n",
    "tracker.Q = block_diag(q, q)\n",
    "print(tracker.Q)"
   ]
  },
  {
   "cell_type": "markdown",
   "metadata": {},
   "source": [
    "### Design the Measurement Function\n",
    "\n",
    "The measurement function $\\mathbf H$ defines how we go from the state variables to the measurements using the equation $\\mathbf z = \\mathbf{Hx}$. In this case we have measurements for ($r_\\phi,r_\\theta,r_\\psi$), so we will design $\\mathbf z$ as $\\begin{bmatrix}r_\\phi & r_\\theta & r_\\psi \\end{bmatrix}^\\mathsf T$ which is dimension 3x1. Our state variable is size 6x1. We can deduce the required size for $\\textbf{H}$ by recalling that multiplying a matrix of size MxN by NxP yields a matrix of size MxP. Thus,\n",
    "\n",
    "$$(3\\times 1) = (a\\times b)(6 \\times 1) = (3\\times 6)(6\\times 1)$$\n",
    "\n",
    "So, $\\textbf{H}$ is 3x6."
   ]
  },
  {
   "cell_type": "markdown",
   "metadata": {},
   "source": [
    "$$\\mathbf H =\n",
    "\\begin{bmatrix} \n",
    "0 & 1 & 0 & 0 & 0 & 0\\\\\n",
    "0 & 0 & 0 & 1 & 0 & 0\\\\\n",
    "0 & 0 & 0 & 0 & 0 & 1\\\\\n",
    "\\end{bmatrix}\n",
    "$$\n",
    "\n",
    "Note: Consider using bit precision conversion number here"
   ]
  },
  {
   "cell_type": "code",
   "execution_count": 6,
   "metadata": {},
   "outputs": [],
   "source": [
    "tracker.H = np.array([[0, 1, 0, 0, 0, 0],\n",
    "                      [0, 0, 0, 1, 0, 0],\n",
    "                      [0, 0, 0, 0, 0, 1]])"
   ]
  },
  {
   "cell_type": "markdown",
   "metadata": {},
   "source": [
    "### Design the Measurement Noise Matrix\n",
    "\n",
    "We assume that the $r_\\phi$, $r_\\theta$ and $r_\\psi$ variables are independent white Gaussian processes. For now let's set the variance for $r_\\phi$, $r_\\theta$ and $r_\\psi$ .2g . They are independent, so there is no covariance, and our off diagonals will be 0. This gives us:\n",
    "\n",
    "$$\\mathbf R = \\begin{bmatrix}\\sigma r_\\phi^2 & \\sigma r_\\phi \\sigma r_\\theta &\\sigma r_\\phi \\sigma r_\\psi \\\\ \\sigma r_\\theta \\sigma r_\\phi & \\sigma r_\\theta^2 & \\sigma r_\\theta \\sigma r_\\psi \\\\ \\sigma r_\\psi \\sigma r_\\phi & \\sigma r_\\psi \\sigma r_\\theta & \\sigma r_\\psi^2\n",
    "\\end{bmatrix} \n",
    "= \\begin{bmatrix}.2&0&0\\\\0&.2&0\\\\0&0&.2\\end{bmatrix}$$\n",
    "\n",
    "It is a $3{\\times}3$ matrix because we have 3 sensor inputs, and covariance matrices are always of size $n{\\times}n$ for $n$ variables. In Python we write:"
   ]
  },
  {
   "cell_type": "code",
   "execution_count": 7,
   "metadata": {},
   "outputs": [
    {
     "data": {
      "text/plain": [
       "array([[0.2, 0. , 0. ],\n",
       "       [0. , 0.2, 0. ],\n",
       "       [0. , 0. , 0.2]])"
      ]
     },
     "execution_count": 7,
     "metadata": {},
     "output_type": "execute_result"
    }
   ],
   "source": [
    "tracker.R = np.array([[.2, 0, 0],\n",
    "                      [0, .2, 0],\n",
    "                      [0, 0, .2]])\n",
    "tracker.R"
   ]
  },
  {
   "cell_type": "markdown",
   "metadata": {},
   "source": [
    "### Initial Conditions"
   ]
  },
  {
   "cell_type": "markdown",
   "metadata": {},
   "source": [
    "Initialize state variables to euler angles (0,0,0) and euler angle rates to (0,0,0). To start off we will also set the covariance matrix to large values\n",
    "\n",
    "$$ \\mathbf x = \\begin{bmatrix}0\\\\0\\\\0\\\\0\\\\0\\\\0\\end{bmatrix}, \\,\n",
    "\\mathbf P = \\begin{bmatrix}500&0&0&0&0&0\\\\0&500&0&0&0&0\\\\0&0&500&0&0&0\\\\0&0&0&500&0&0\\\\0&0&0&0&500&0\\\\0&0&0&0&0&500\\end{bmatrix}$$\n",
    "\n",
    "The Python implementation is"
   ]
  },
  {
   "cell_type": "code",
   "execution_count": 8,
   "metadata": {},
   "outputs": [],
   "source": [
    "tracker.x = np.array([[0, 0, 0, 0, 0, 0]]).T\n",
    "tracker.P = np.eye(6) * 500."
   ]
  },
  {
   "cell_type": "markdown",
   "metadata": {},
   "source": [
    "### Implement the Filter"
   ]
  },
  {
   "cell_type": "code",
   "execution_count": 20,
   "metadata": {},
   "outputs": [
    {
     "data": {
      "image/png": "[encoded data removed]",
      "text/plain": [
       "<Figure size 432x288 with 1 Axes>"
      ]
     },
     "metadata": {
      "needs_background": "light"
     },
     "output_type": "display_data"
    }
   ],
   "source": [
    "from filterpy.stats import plot_covariance_ellipse\n",
    "\n",
    "\n",
    "R_std = 0.35\n",
    "Q_std = 0.04\n",
    "\n",
    "def tracker1():\n",
    "    tracker = KalmanFilter(dim_x=6, dim_z=3)\n",
    "    dt = 1.0   # time step\n",
    "\n",
    "    tracker.F = np.array([[1,  dt, 0,  0,  0, 0],\n",
    "                      [0,  1,  0,  0,  0, 0],\n",
    "                      [0,  0,  1,  dt, 0, 0],\n",
    "                      [0,  0,  0,  1,  0, 0],\n",
    "                      [0,  0,  0,  0,  1, dt],\n",
    "                      [0,  0,  0,  0,  0, 1]])\n",
    "    \n",
    "    tracker.u = 0.\n",
    "    tracker.H = np.array([[0, 1, 0, 0, 0, 0],\n",
    "                      [0, 0, 0, 1, 0, 0],\n",
    "                      [0, 0, 0, 0, 0, 1]])\n",
    "\n",
    "    tracker.R = np.eye(3) * R_std**2\n",
    "    q = Q_discrete_white_noise(dim=3, dt=dt, var=Q_std**2)\n",
    "    tracker.Q = block_diag(q, q)\n",
    "    tracker.x = np.array([[0, 0, 0, 0, 0, 0]]).T\n",
    "    tracker.P = np.eye(6) * 500.\n",
    "    return tracker\n",
    "\n",
    "# simulate copter movement\n",
    "N = 30\n",
    "sensor = NavSensor((0, 0, 0), (2, .2, .2), noise_std=R_std)\n",
    "\n",
    "zs = np.array([sensor.read() for _ in range(N)])\n",
    "\n",
    "# run filter\n",
    "copter_tracker = tracker1()\n",
    "mu, cov, _, _ = copter_tracker.batch_filter(zs)\n",
    "\n",
    "for x, P in zip(mu, cov):\n",
    "    # covariance of phi, theta, and psi\n",
    "    cov = np.array([[P[0, 0], P[0, 1], P[0, 2]], \n",
    "                    [P[1, 0], P[1, 1]], P[1, 2],\n",
    "                    [P[2, 0], P[2, 1]], P[2, 2]])\n",
    "    mean = (x[0, 0], x[1, 0], x[2, 0])\n",
    "    #plot_covariance_ellipse(mean, cov=cov, fc='g', std=3, alpha=0.5)\n",
    "    \n",
    "#plot results\n",
    "plt.plot(mu[:, 0], mu[:, 2],label='Filter')\n",
    "plt.plot(zs[:, 0], zs[:, 1],label='Measurements')\n",
    "plt.legend(loc=2)\n",
    "plt.xlim(0, 20);\n",
    "plt.ylim(0, 5);"
   ]
  },
  {
   "cell_type": "markdown",
   "metadata": {},
   "source": [
    "## References\n",
    "\n",
    "[1] https://www.aero.psu.edu/avia/pubs/dissertation_ss.pdf\n",
    "\n",
    "[2] https://github.com/rlabbe/Kalman-and-Bayesian-Filters-in-Python\n",
    "\n",
    "[3] https://www.jhuapl.edu/techdigest/TD/td3102/31_02-Barton.pdf"
   ]
  },
  {
   "cell_type": "code",
   "execution_count": null,
   "metadata": {},
   "outputs": [],
   "source": []
  },
  {
   "cell_type": "code",
   "execution_count": null,
   "metadata": {},
   "outputs": [],
   "source": []
  },
  {
   "cell_type": "code",
   "execution_count": null,
   "metadata": {},
   "outputs": [],
   "source": []
  }
 ],
 "metadata": {
  "kernelspec": {
   "display_name": "Python 3",
   "language": "python",
   "name": "python3"
  },
  "language_info": {
   "codemirror_mode": {
    "name": "ipython",
    "version": 3
   },
   "file_extension": ".py",
   "mimetype": "text/x-python",
   "name": "python",
   "nbconvert_exporter": "python",
   "pygments_lexer": "ipython3",
   "version": "3.7.1"
  }
 },
 "nbformat": 4,
 "nbformat_minor": 2
}
