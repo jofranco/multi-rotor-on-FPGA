{
 "cells": [
  {
   "cell_type": "code",
   "execution_count": 245,
   "metadata": {},
   "outputs": [],
   "source": [
    "\n",
    "#------------------------------------------------------------------------\n",
    "# WES 269 SBUS Demo Code\n",
    "#\n",
    "# This code serves as a baseline for configuring the SPI core\n",
    "#\n",
    "#------------------------------------------------------------------------\n",
    "\n",
    "from pynq import Overlay\n",
    "from pynq import MMIO\n",
    "import time\n",
    "import numpy as np"
   ]
  },
  {
   "cell_type": "code",
   "execution_count": 246,
   "metadata": {},
   "outputs": [
    {
     "name": "stdout",
     "output_type": "stream",
     "text": [
      "  \n",
      "0.4123663902282715 seconds to program bitstream\n"
     ]
    },
    {
     "data": {
      "text/plain": [
       "{'axi_quad_spi_0': {'addr_range': 65536,\n",
       "  'driver': pynq.overlay.DefaultIP,\n",
       "  'fullpath': 'axi_quad_spi_0',\n",
       "  'gpio': {},\n",
       "  'interrupts': {},\n",
       "  'phys_addr': 1105199104,\n",
       "  'state': None,\n",
       "  'type': 'xilinx.com:ip:axi_quad_spi:3.2'}}"
      ]
     },
     "execution_count": 246,
     "metadata": {},
     "output_type": "execute_result"
    }
   ],
   "source": [
    "\n",
    "# Load bitstream\n",
    "ol = Overlay('SPI_PMODNAV_test4.bit')\n",
    "\n",
    "# Download bitstream to FPGA\n",
    "t_before_bitstream = time.time()\n",
    "ol.download()\n",
    "t_after_bitstream = time.time()\n",
    "print('  ')\n",
    "print(t_after_bitstream - t_before_bitstream, 'seconds to program bitstream')\n",
    "ol.ip_dict"
   ]
  },
  {
   "cell_type": "code",
   "execution_count": 247,
   "metadata": {},
   "outputs": [
    {
     "name": "stdout",
     "output_type": "stream",
     "text": [
      "processor\t: 0\r\n",
      "model name\t: ARMv7 Processor rev 0 (v7l)\r\n",
      "BogoMIPS\t: 650.00\r\n",
      "Features\t: half thumb fastmult vfp edsp neon vfpv3 tls vfpd32 \r\n",
      "CPU implementer\t: 0x41\r\n",
      "CPU architecture: 7\r\n",
      "CPU variant\t: 0x3\r\n",
      "CPU part\t: 0xc09\r\n",
      "CPU revision\t: 0\r\n",
      "\r\n",
      "processor\t: 1\r\n",
      "model name\t: ARMv7 Processor rev 0 (v7l)\r\n",
      "BogoMIPS\t: 650.00\r\n",
      "Features\t: half thumb fastmult vfp edsp neon vfpv3 tls vfpd32 \r\n",
      "CPU implementer\t: 0x41\r\n",
      "CPU architecture: 7\r\n",
      "CPU variant\t: 0x3\r\n",
      "CPU part\t: 0xc09\r\n",
      "CPU revision\t: 0\r\n",
      "\r\n",
      "Hardware\t: Xilinx Zynq Platform\r\n",
      "Revision\t: 0003\r\n",
      "Serial\t\t: 0000000000000000\r\n"
     ]
    }
   ],
   "source": [
    "!cat /proc/cpuinfo"
   ]
  },
  {
   "cell_type": "code",
   "execution_count": 248,
   "metadata": {},
   "outputs": [
    {
     "name": "stdout",
     "output_type": "stream",
     "text": [
      "6\n",
      "0\n",
      "done\n"
     ]
    }
   ],
   "source": [
    "# testing SPI output\n",
    "\n",
    "# SPI CORE config\n",
    "IP_BASE_ADDRESS = 0x41E00000\n",
    "ADDRESS_RANGE = 0xFFFF\n",
    "\n",
    "\n",
    "# Address space definitions for PMODNAV\n",
    "ACC_X_L_ADDR   =  0x28\n",
    "\n",
    "MAG_X_L_ADDR   =  0x28\n",
    "\n",
    "GYRO_X_L_ADDR  =  0x18\n",
    "GYRO_Y_L_ADDR  =  0x1A\n",
    "GYRO_Z_L_ADDR  =  0x1C\n",
    "\n",
    "ALT_X_L_ADDR   =  0x28\n",
    "\n",
    "CTRL_REG6_XL_ADDR  =  0x20\n",
    "\n",
    "X_DIR_SEL    =   0x01\n",
    "Y_DIR_SEL    =   0x02\n",
    "Z_DIR_SEL    =   0x03\n",
    "\n",
    "READ_CFG    =   0x80  # bit 7 high\n",
    "WRITE_CFG   =   0x7F  # bit 7 low\n",
    "MS_CFG      =   0xC0  # 11000000\n",
    "\n",
    "STATE_ON    =   0x01\n",
    "STATE_OFF   =   0x00\n",
    "\n",
    "CTRL_REG5_XL =  0x1F\n",
    "CTRL_REG6_XL =  0x20\n",
    "CTRL_REG4    =  0x1E\n",
    "\n",
    "CTRL_REG1_M  =  0x20\n",
    "CTRL_REG2_M  =  0x21\n",
    "CTRL_REG3_M  =  0x22\n",
    "CTRL_REG4_M  =  0x23\n",
    "CTRL_REG5_M  =  0x24\n",
    "\n",
    "CTRL_REG1_G  =  0x10\n",
    "CTRL_REG2_G  =  0x11\n",
    "CTRL_REG3_G  =  0x12\n",
    "\n",
    "CTRL_REG1_ALT = 0x20\n",
    "CTRL_REG2_ALT = 0x21\n",
    "CTRL_REG4_ALT = 0x23\n",
    "\n",
    "GYRO_WHO_AM_I  = 0x0F\n",
    "# end PMODNav definitions\n",
    "\n",
    "# creating SPI CORE object for messages\n",
    "#set third argument to true if want debug\n",
    "SPI_CORE = MMIO(IP_BASE_ADDRESS,ADDRESS_RANGE, False)\n",
    "\n",
    "# this is a basic configuration of the SPI core\n",
    "# I would read through the docs a bit more and make sure this is correct\n",
    "# it seems to work as is, 8 bit addres and 8 bit data with SS and CLK\n",
    "\n",
    "# testing config\n",
    "SPI_CORE.write(0x60, 0x006) # enable SPI core in master mode, auto SS\n",
    "SPI_CORE.write(0x70, 0xFFFE) # enable SS 0\n",
    "read1 = SPI_CORE.read(0x60)\n",
    "read2 = SPI_CORE.read(0x70)\n",
    "\n",
    "print(read1)\n",
    "print(read2)\n",
    "print('done')"
   ]
  },
  {
   "cell_type": "markdown",
   "metadata": {},
   "source": [
    "### Testing write to SPI Core"
   ]
  },
  {
   "cell_type": "code",
   "execution_count": 249,
   "metadata": {},
   "outputs": [
    {
     "name": "stdout",
     "output_type": "stream",
     "text": [
      "done\n"
     ]
    }
   ],
   "source": [
    "WRITE_OFFSET = 0x68\n",
    "ADDRESS = 0x66 # made up address, 01100110\n",
    "DATA = 0xD5\n",
    "READ_OFFSET = 0x6C\n",
    "\n",
    "# I put this together for a basic configuration of the messages\n",
    "# each read/write needs to be tailored so\n",
    "MESSAGE = (ADDRESS << 8) | DATA \n",
    "\n",
    "\n",
    "SPI_CORE.write(WRITE_OFFSET, MESSAGE) # try to send data\n",
    "print('done')"
   ]
  },
  {
   "cell_type": "markdown",
   "metadata": {},
   "source": [
    "### Testing read from SPI Core"
   ]
  },
  {
   "cell_type": "code",
   "execution_count": 250,
   "metadata": {},
   "outputs": [
    {
     "name": "stdout",
     "output_type": "stream",
     "text": [
      "offset: 6c\tdata: 0\n"
     ]
    }
   ],
   "source": [
    "r1 = SPI_CORE.read(READ_OFFSET)\n",
    "\n",
    "print('offset: {0:x}\\t'.format(READ_OFFSET) + 'data: {0:x}'.format(r1))"
   ]
  },
  {
   "cell_type": "markdown",
   "metadata": {},
   "source": [
    "### Testing SPI with Pmod Nav"
   ]
  },
  {
   "cell_type": "code",
   "execution_count": 251,
   "metadata": {},
   "outputs": [],
   "source": [
    "WHO_AM_I = 0x8F # address for who_am_i register from Nav, expect to read back 0x68\n",
    "DATA_NAV = 0x55 # sending random data\n",
    "MESSAGE_NAV = (WHO_AM_I << 8) | DATA_NAV\n",
    "# expect to read a 0x68 based on pg. 45 of lhttps://www.st.com/resource/en/datasheet/lsm9ds1.pdf\n",
    "SPI_CORE.write(WRITE_OFFSET, MESSAGE_NAV) # try to send data"
   ]
  },
  {
   "cell_type": "code",
   "execution_count": 252,
   "metadata": {},
   "outputs": [
    {
     "name": "stdout",
     "output_type": "stream",
     "text": [
      "offset: 6c\tdata: 68\n"
     ]
    }
   ],
   "source": [
    "r_nav= SPI_CORE.read(READ_OFFSET)\n",
    "print('offset: {0:x}\\t'.format(READ_OFFSET) + 'data: {0:x}'.format(r_nav))"
   ]
  },
  {
   "cell_type": "markdown",
   "metadata": {},
   "source": [
    "### Testing Nav Driver Code"
   ]
  },
  {
   "cell_type": "markdown",
   "metadata": {},
   "source": [
    "The methods below are a step closer for creating the Custom Nav Driver Code to function with the SPI Core."
   ]
  },
  {
   "cell_type": "code",
   "execution_count": 253,
   "metadata": {},
   "outputs": [],
   "source": [
    "# Custom PMODNav Driver code\n",
    "NO_DATA = 0x00\n",
    "\n",
    "def Nav_SPI_Write(addr, val):\n",
    "    tx_byte = addr & WRITE_CFG\n",
    "    #tx_byte = addr\n",
    "    message = (tx_byte << 8) | val\n",
    "    SPI_CORE.write(WRITE_OFFSET,message)\n",
    "\n",
    "def Nav_SPI_Read(addr):\n",
    "    tx_byte = addr | READ_CFG\n",
    "    val = NO_DATA # don't think data needs to be sent when reading\n",
    "    message = (tx_byte << 8) | val\n",
    "    SPI_CORE.write(WRITE_OFFSET,message)\n",
    "    r = SPI_CORE.read(READ_OFFSET)\n",
    "    \n",
    "    return r\n",
    "\n",
    "def Nav_SPI_Acc_Gyro_pwr(state):\n",
    "    if(state==STATE_ON):\n",
    "        print(\"--ACC and GYRO Power ON--\\r\\n\")\n",
    "        Nav_SPI_Write(CTRL_REG5_XL, 0x38)\n",
    "        Nav_SPI_Write(CTRL_REG6_XL, 0xC0)\n",
    "        Nav_SPI_Write(CTRL_REG1_G, 0xC0)\n",
    "        Nav_SPI_Write(CTRL_REG4, 0x38)\n",
    "    else:\n",
    "        print(\"--ACC and GYRO Power OFF\")\n",
    "        Nav_SPI_Write(CTRL_REG5_XL, 0x00)\n",
    "        Nav_SPI_Write(CTRL_REG6_XL, 0x00)\n",
    "        Nav_SPI_Write(CTRL_REG4, 0x00)\n",
    "        Nav_SPI_Write(CTRL_REG1_G, 0x00)\n",
    "    \n",
    "    return 0\n",
    "\n",
    "def Nav_SPI_Gyro_GetData(axis):\n",
    "    if(axis == X_DIR_SEL):\n",
    "        return Nav_SPI_Read(GYRO_X_L_ADDR)\n",
    "    elif(axis == Y_DIR_SEL):\n",
    "        return Nav_SPI_Read(GYRO_Y_L_ADDR)\n",
    "    else:\n",
    "        return Nav_SPI_Read(GYRO_Z_L_ADDR)"
   ]
  },
  {
   "cell_type": "code",
   "execution_count": 254,
   "metadata": {},
   "outputs": [
    {
     "name": "stdout",
     "output_type": "stream",
     "text": [
      "--ACC and GYRO Power ON--\r\n",
      "\n"
     ]
    }
   ],
   "source": [
    "pwr = Nav_SPI_Acc_Gyro_pwr(1)"
   ]
  },
  {
   "cell_type": "markdown",
   "metadata": {},
   "source": [
    "### Collecting gyro single samples"
   ]
  },
  {
   "cell_type": "code",
   "execution_count": 258,
   "metadata": {},
   "outputs": [
    {
     "name": "stdout",
     "output_type": "stream",
     "text": [
      "gyro raw data x is: \n",
      " 235\n",
      "gyro raw data y is: \n",
      " 91\n",
      "gyro raw data z is: \n",
      " 90\n"
     ]
    }
   ],
   "source": [
    "gyro_data_x = Nav_SPI_Gyro_GetData(X_DIR_SEL)\n",
    "print('gyro raw data x is: \\n', gyro_data_x)\n",
    "#time.sleep(2)\n",
    "gyro_data_y = Nav_SPI_Gyro_GetData(Y_DIR_SEL)\n",
    "print('gyro raw data y is: \\n', gyro_data_y)\n",
    "#time.sleep(2)\n",
    "gyro_data_z = Nav_SPI_Gyro_GetData(Z_DIR_SEL)\n",
    "print('gyro raw data z is: \\n', gyro_data_z)"
   ]
  },
  {
   "cell_type": "markdown",
   "metadata": {},
   "source": [
    "### Collecting gyro multiple samples"
   ]
  },
  {
   "cell_type": "code",
   "execution_count": 260,
   "metadata": {},
   "outputs": [
    {
     "name": "stdout",
     "output_type": "stream",
     "text": [
      "GYRO_RAW: 235 \t 72 \t 154 \n",
      "\n",
      "GYRO_RAW: 231 \t 100 \t 94 \n",
      "\n",
      "GYRO_RAW: 208 \t 142 \t 80 \n",
      "\n",
      "GYRO_RAW: 208 \t 114 \t 94 \n",
      "\n",
      "GYRO_RAW: 215 \t 77 \t 127 \n",
      "\n",
      "GYRO_RAW: 217 \t 95 \t 129 \n",
      "\n",
      "GYRO_RAW: 207 \t 90 \t 100 \n",
      "\n",
      "GYRO_RAW: 207 \t 88 \t 84 \n",
      "\n",
      "GYRO_RAW: 224 \t 115 \t 102 \n",
      "\n",
      "GYRO_RAW: 200 \t 120 \t 136 \n",
      "\n",
      "GYRO_RAW: 196 \t 92 \t 82 \n",
      "\n",
      "GYRO_RAW: 194 \t 121 \t 127 \n",
      "\n",
      "GYRO_RAW: 210 \t 111 \t 109 \n",
      "\n",
      "GYRO_RAW: 219 \t 92 \t 118 \n",
      "\n",
      "GYRO_RAW: 212 \t 99 \t 101 \n",
      "\n",
      "GYRO_RAW: 227 \t 97 \t 143 \n",
      "\n",
      "GYRO_RAW: 205 \t 103 \t 101 \n",
      "\n",
      "GYRO_RAW: 209 \t 85 \t 133 \n",
      "\n",
      "GYRO_RAW: 181 \t 98 \t 92 \n",
      "\n",
      "GYRO_RAW: 212 \t 97 \t 123 \n",
      "\n",
      "GYRO_RAW: 212 \t 104 \t 113 \n",
      "\n",
      "GYRO_RAW: 221 \t 107 \t 117 \n",
      "\n",
      "GYRO_RAW: 213 \t 114 \t 114 \n",
      "\n",
      "GYRO_RAW: 196 \t 95 \t 97 \n",
      "\n",
      "GYRO_RAW: 219 \t 71 \t 107 \n",
      "\n",
      "GYRO_RAW: 177 \t 108 \t 89 \n",
      "\n",
      "GYRO_RAW: 217 \t 91 \t 105 \n",
      "\n",
      "GYRO_RAW: 212 \t 108 \t 139 \n",
      "\n",
      "GYRO_RAW: 200 \t 91 \t 99 \n",
      "\n",
      "GYRO_RAW: 215 \t 110 \t 104 \n",
      "\n",
      "GYRO_RAW: 191 \t 62 \t 129 \n",
      "\n",
      "GYRO_RAW: 179 \t 139 \t 130 \n",
      "\n",
      "GYRO_RAW: 204 \t 85 \t 119 \n",
      "\n",
      "GYRO_RAW: 218 \t 114 \t 98 \n",
      "\n",
      "GYRO_RAW: 211 \t 67 \t 98 \n",
      "\n",
      "GYRO_RAW: 210 \t 116 \t 84 \n",
      "\n",
      "GYRO_RAW: 209 \t 86 \t 100 \n",
      "\n",
      "GYRO_RAW: 203 \t 119 \t 92 \n",
      "\n",
      "GYRO_RAW: 216 \t 105 \t 108 \n",
      "\n",
      "GYRO_RAW: 218 \t 105 \t 113 \n",
      "\n",
      "GYRO_RAW: 214 \t 87 \t 108 \n",
      "\n",
      "GYRO_RAW: 211 \t 116 \t 101 \n",
      "\n",
      "GYRO_RAW: 188 \t 111 \t 101 \n",
      "\n",
      "GYRO_RAW: 209 \t 104 \t 90 \n",
      "\n",
      "GYRO_RAW: 208 \t 85 \t 80 \n",
      "\n",
      "GYRO_RAW: 224 \t 95 \t 123 \n",
      "\n",
      "GYRO_RAW: 223 \t 110 \t 78 \n",
      "\n",
      "GYRO_RAW: 213 \t 102 \t 113 \n",
      "\n",
      "GYRO_RAW: 200 \t 106 \t 80 \n",
      "\n",
      "GYRO_RAW: 215 \t 106 \t 87 \n",
      "\n",
      "GYRO_RAW: 204 \t 122 \t 91 \n",
      "\n",
      "GYRO_RAW: 210 \t 86 \t 113 \n",
      "\n",
      "GYRO_RAW: 197 \t 96 \t 143 \n",
      "\n",
      "GYRO_RAW: 208 \t 92 \t 102 \n",
      "\n",
      "GYRO_RAW: 203 \t 98 \t 131 \n",
      "\n",
      "GYRO_RAW: 197 \t 90 \t 119 \n",
      "\n",
      "GYRO_RAW: 199 \t 81 \t 111 \n",
      "\n",
      "GYRO_RAW: 187 \t 97 \t 127 \n",
      "\n",
      "GYRO_RAW: 206 \t 112 \t 111 \n",
      "\n",
      "GYRO_RAW: 207 \t 111 \t 97 \n",
      "\n"
     ]
    }
   ],
   "source": [
    "GYRO_RAW = list()\n",
    "\n",
    "T_SAMPLE = 30\n",
    "FS = 2\n",
    "N_SAMPLE = T_SAMPLE*FS\n",
    "\n",
    "for x in range(0, N_SAMPLE):\n",
    "    gyro_data_x = Nav_SPI_Gyro_GetData(X_DIR_SEL)\n",
    "    gyro_data_y = Nav_SPI_Gyro_GetData(Y_DIR_SEL)\n",
    "    gyro_data_z = Nav_SPI_Gyro_GetData(Z_DIR_SEL)\n",
    "\n",
    "    GYRO_RAW.append(gyro_data_x)\n",
    "    GYRO_RAW.append(gyro_data_y)\n",
    "    GYRO_RAW.append(gyro_data_z)\n",
    "    \n",
    "    print(\"GYRO_RAW:\", GYRO_RAW[(x*3) + 0], \"\\t\", GYRO_RAW[(x*3) + 1], \"\\t\", GYRO_RAW[(x*3) + 2], \"\\r\\n\")\n",
    "    #print(\"GYRO_DPS:\", GYRO_DPS[(x*3) + 0], \"\\t\", GYRO_DPS[(x*3) + 1], \"\\t\", GYRO_DPS[(x*3) + 2], \"\\r\\n\")\n",
    "    \n",
    "    time.sleep(1/FS)"
   ]
  },
  {
   "cell_type": "code",
   "execution_count": null,
   "metadata": {},
   "outputs": [],
   "source": []
  },
  {
   "cell_type": "code",
   "execution_count": null,
   "metadata": {},
   "outputs": [],
   "source": []
  }
 ],
 "metadata": {
  "kernelspec": {
   "display_name": "Python 3",
   "language": "python",
   "name": "python3"
  },
  "language_info": {
   "codemirror_mode": {
    "name": "ipython",
    "version": 3
   },
   "file_extension": ".py",
   "mimetype": "text/x-python",
   "name": "python",
   "nbconvert_exporter": "python",
   "pygments_lexer": "ipython3",
   "version": "3.6.5"
  }
 },
 "nbformat": 4,
 "nbformat_minor": 2
}
