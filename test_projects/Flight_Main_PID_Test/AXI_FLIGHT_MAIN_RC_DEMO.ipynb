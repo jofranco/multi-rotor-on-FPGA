{
 "cells": [
  {
   "cell_type": "markdown",
   "metadata": {},
   "source": [
    "------------------------------------------------------------------------\n",
    "\n",
    "# WES 207 SBUS to PID Demo Code\n",
    "\n",
    "### Author: Aaron Coffman\n",
    "\n",
    "-------------------------------------------------------------------------"
   ]
  },
  {
   "cell_type": "markdown",
   "metadata": {},
   "source": [
    "### Jupyter Notebook Setup for Overlay Import"
   ]
  },
  {
   "cell_type": "code",
   "execution_count": 1,
   "metadata": {},
   "outputs": [
    {
     "data": {
      "application/javascript": [
       "\n",
       "require(['notebook/js/codecell'], function(codecell) {\n",
       "  codecell.CodeCell.options_default.highlight_modes[\n",
       "      'magic_text/x-csrc'] = {'reg':[/^%%microblaze/]};\n",
       "  Jupyter.notebook.events.one('kernel_ready.Kernel', function(){\n",
       "      Jupyter.notebook.get_cells().map(function(cell){\n",
       "          if (cell.cell_type == 'code'){ cell.auto_highlight(); } }) ;\n",
       "  });\n",
       "});\n"
      ]
     },
     "metadata": {},
     "output_type": "display_data"
    },
    {
     "name": "stdout",
     "output_type": "stream",
     "text": [
      "\n",
      "done\n"
     ]
    }
   ],
   "source": [
    "\n",
    "from pynq import Overlay\n",
    "from pynq import MMIO\n",
    "import time\n",
    "import numpy as np\n",
    "from math import *\n",
    "\n",
    "print('')\n",
    "print('done')"
   ]
  },
  {
   "cell_type": "markdown",
   "metadata": {},
   "source": [
    "### Loading FPGA bit stream"
   ]
  },
  {
   "cell_type": "code",
   "execution_count": 74,
   "metadata": {},
   "outputs": [
    {
     "name": "stdout",
     "output_type": "stream",
     "text": [
      "  \n",
      "1.2573621273040771 seconds to program bitstream\n",
      "\n",
      "done\n"
     ]
    }
   ],
   "source": [
    "# Load bitstream\n",
    "#ol = Overlay('SBUS_DEMO_100M_tx_ext_clks_test5.bit')\n",
    "ol = Overlay('FLIGHT_MAIN_RC_PID_DEMO.bit')\n",
    "\n",
    "# Download bitstream to FPGA\n",
    "t_before_bitstream = time.time()\n",
    "ol.download()\n",
    "t_after_bitstream = time.time()\n",
    "print('  ')\n",
    "print(t_after_bitstream - t_before_bitstream, 'seconds to program bitstream')\n",
    "\n",
    "print('')\n",
    "print('done')"
   ]
  },
  {
   "cell_type": "markdown",
   "metadata": {},
   "source": [
    "### Setting MMIO Address Definitions"
   ]
  },
  {
   "cell_type": "code",
   "execution_count": 75,
   "metadata": {},
   "outputs": [
    {
     "name": "stdout",
     "output_type": "stream",
     "text": [
      "Address Definitions complete\n",
      "\n",
      "done\n"
     ]
    }
   ],
   "source": [
    "# Address space definitions\n",
    "\n",
    "## MMIO targets\n",
    "UART_16550_BASE_ADDRESS         = 0x43C00000\n",
    "UART_DRIVER_BASE_ADDRESS        = 0x43C10000\n",
    "#UART_DATA_BASE_ADDRESS         = 0x40004000\n",
    "RC_RECEIVER_BASE_ADDRESS        = 0x40000000\n",
    "RC_RECEIVER_DATA_BASE_ADDRESS   = 0x40000020  # 0x20 for raw SBUS data\n",
    "RC_RECEIVER_TEST_BASE_ADDRESS   = 0x40004000\n",
    "FLIGHT_MAIN_CTRL_BASE_ADDRESS   = 0x40010000\n",
    "FLIGHT_MAIN_CMD_BASE_ADDRESS    = 0x40020010  # 0x10 for scaled SBUS data\n",
    "FLIGHT_MAIN_TEST_BASE_ADDRESS   = 0x40064000\n",
    "PID_CTRL_BASE_ADDRESS           = 0x40030000\n",
    "PID_KP_BASE_ADDRESS             = 0x40030020\n",
    "PID_KI_BASE_ADDRESS             = 0x40030050\n",
    "PID_KD_BASE_ADDRESS             = 0x40030040\n",
    "PID_INPUT_BASE_ADDRESS          = 0x40040010  # 0x10 CMD, 0x20 meas\n",
    "PID_TEST_BASE_ADDRESS           = 0x40054000\n",
    "\n",
    "# MMIO address ranges\n",
    "ADDRESS_RANGE1 = 0x1000   # 4k\n",
    "ADDRESS_RANGE2 = 0x4000   # 16k\n",
    "ADDRESS_RANGE3 = 0x10000  # 64k\n",
    "\n",
    "print('Address Definitions complete')\n",
    "print('')\n",
    "print('done')"
   ]
  },
  {
   "cell_type": "markdown",
   "metadata": {},
   "source": [
    "### Defining MMIO index offsets for read/write functions"
   ]
  },
  {
   "cell_type": "code",
   "execution_count": 76,
   "metadata": {},
   "outputs": [
    {
     "name": "stdout",
     "output_type": "stream",
     "text": [
      "\n",
      "done\n"
     ]
    }
   ],
   "source": [
    "# defining MMIO index offsets\n",
    "index_0 = 0x00\n",
    "index_1 = 0x04\n",
    "index_2 = 0x08\n",
    "index_3 = 0x0C\n",
    "index_4 = 0x10\n",
    "index_5 = 0x14\n",
    "index_6 = 0x18\n",
    "index_7 = 0x1C \n",
    "index_8 = 0x20\n",
    "index_9 = 0x24\n",
    "index_10 = 0x28\n",
    "index_11 = 0x2C\n",
    "index_12 = 0x30\n",
    "index_13 = 0x34\n",
    "index_14 = 0x38\n",
    "index_15 = 0x3C \n",
    "index_16 = 0x40\n",
    "index_17 = 0x44\n",
    "index_18 = 0x48\n",
    "index_19 = 0x4C\n",
    "index_20 = 0x50\n",
    "index_21 = 0x54\n",
    "index_22 = 0x58\n",
    "index_23 = 0x5C \n",
    "index_24 = 0x60\n",
    "index_25 = 0x64\n",
    "index_26 = 0x68\n",
    "index_27 = 0x6C\n",
    "index_28 = 0x70\n",
    "index_29 = 0x74\n",
    "\n",
    "print('')\n",
    "print('done')"
   ]
  },
  {
   "cell_type": "markdown",
   "metadata": {},
   "source": [
    "### Configuring PID Controller Gains"
   ]
  },
  {
   "cell_type": "code",
   "execution_count": 122,
   "metadata": {},
   "outputs": [
    {
     "name": "stdout",
     "output_type": "stream",
     "text": [
      "Decimal Value:  1638.4\n",
      "Hex Value: \t666\n"
     ]
    }
   ],
   "source": [
    "# calculating PID gains for 32 bit fixed point kp, ki, kd\n",
    "\n",
    "Desired_gain = 0.200\n",
    "val = Desired_gain / pow(2,-13)\n",
    "\n",
    "print('Decimal Value: ', val   )\n",
    "print('Hex Value: \\t{0:x}'.format( int(val) ))\n"
   ]
  },
  {
   "cell_type": "code",
   "execution_count": 123,
   "metadata": {},
   "outputs": [
    {
     "name": "stdout",
     "output_type": "stream",
     "text": [
      "kp: 0.199951171875 0.199951171875 0.199951171875 0.199951171875 0.199951171875 0.199951171875\n",
      "ki: 0.0 0.0 0.0 0.0\n",
      "kd: 0.00048828125 0.00048828125 0.00048828125 0.00048828125\n",
      "\n",
      "done\n"
     ]
    }
   ],
   "source": [
    "\n",
    "# creating MMIO objects\n",
    "kp_gains = MMIO(PID_KP_BASE_ADDRESS,ADDRESS_RANGE1, False)\n",
    "ki_gains = MMIO(PID_KI_BASE_ADDRESS,ADDRESS_RANGE1, False)\n",
    "kd_gains = MMIO(PID_KD_BASE_ADDRESS,ADDRESS_RANGE1, False)\n",
    "\n",
    "# setting PID gains for DEMO/debug\n",
    "kp_gains.write(index_0,0x666)   # Positon Roll  kp\n",
    "kp_gains.write(index_1,0x666)   # Positon Pitch kp\n",
    "kp_gains.write(index_2,0x666)   # Positon Yaw   kp\n",
    "kp_gains.write(index_3,0x666)   # Rate    Roll  kp\n",
    "kp_gains.write(index_4,0x666)   # Rate    Pitch kp\n",
    "kp_gains.write(index_5,0x666)   # Rate    yaw   kp\n",
    "\n",
    "ki_gains.write(index_0,0x0)   # Positon Roll   ki\n",
    "ki_gains.write(index_1,0x0)   # Positon Pitch  ki\n",
    "ki_gains.write(index_2,0x0)   # Rate    Roll   ki\n",
    "ki_gains.write(index_3,0x0)   # Rate    Pitch  ki\n",
    "\n",
    "kd_gains.write(index_0,0x4)   # Positon Roll   kd\n",
    "kd_gains.write(index_1,0x4)   # Positon Pitch  kd\n",
    "kd_gains.write(index_2,0x4)   # Rate    Roll   kd\n",
    "kd_gains.write(index_3,0x4)   # Rate    Pitch  kd\n",
    "\n",
    "# reading back PID gain values\n",
    "# kp\n",
    "test1 = kp_gains.read(index_0) * pow(2,-13)\n",
    "test2 = kp_gains.read(index_1) * pow(2,-13)\n",
    "test3 = kp_gains.read(index_2) * pow(2,-13)\n",
    "test4 = kp_gains.read(index_3) * pow(2,-13)\n",
    "test5 = kp_gains.read(index_4) * pow(2,-13)\n",
    "test6 = kp_gains.read(index_5) * pow(2,-13)\n",
    "print(\"kp:\", test1, test2, test3, test4, test5, test6)\n",
    "\n",
    "# ki\n",
    "test1 = ki_gains.read(index_0) * pow(2,-13)\n",
    "test2 = ki_gains.read(index_1) * pow(2,-13)\n",
    "test3 = ki_gains.read(index_2) * pow(2,-13)\n",
    "test4 = ki_gains.read(index_3) * pow(2,-13)\n",
    "print(\"ki:\", test1, test2, test3, test4)\n",
    "\n",
    "# kd\n",
    "test1 = kd_gains.read(index_0) * pow(2,-13)\n",
    "test2 = kd_gains.read(index_1) * pow(2,-13)\n",
    "test3 = kd_gains.read(index_2) * pow(2,-13)\n",
    "test4 = kd_gains.read(index_3) * pow(2,-13)\n",
    "print(\"kd:\", test1, test2, test3, test4)\n",
    "\n",
    "\n",
    "print('')\n",
    "print('done')"
   ]
  },
  {
   "cell_type": "markdown",
   "metadata": {},
   "source": [
    "### Creating MMIO Objects"
   ]
  },
  {
   "cell_type": "code",
   "execution_count": 81,
   "metadata": {},
   "outputs": [
    {
     "name": "stdout",
     "output_type": "stream",
     "text": [
      "UART16550 Core Configuration Complete\n",
      "\n",
      "done\n"
     ]
    }
   ],
   "source": [
    "\n",
    "# UART16650 Core\n",
    "UART_core = MMIO(UART_16550_BASE_ADDRESS,ADDRESS_RANGE3, False)   # 64k\n",
    "UART_Driver = MMIO(UART_DRIVER_BASE_ADDRESS,ADDRESS_RANGE1, False)\n",
    "\n",
    "# RC Receiver Core\n",
    "RC_Driver = MMIO(RC_RECEIVER_BASE_ADDRESS,ADDRESS_RANGE1, False)\n",
    "RC_Input_Data = MMIO(RC_RECEIVER_DATA_BASE_ADDRESS,ADDRESS_RANGE1, False)\n",
    "RC_TEST_Data = MMIO(RC_RECEIVER_TEST_BASE_ADDRESS,ADDRESS_RANGE2, False)\n",
    "\n",
    "# Flight Main Core\n",
    "Flight_Main_core = MMIO(FLIGHT_MAIN_CTRL_BASE_ADDRESS,ADDRESS_RANGE1, False)\n",
    "Flight_Main_Input_Data = MMIO(FLIGHT_MAIN_CMD_BASE_ADDRESS,ADDRESS_RANGE1, False)\n",
    "Flight_Main_TEST_Data = MMIO(FLIGHT_MAIN_TEST_BASE_ADDRESS,ADDRESS_RANGE2, False)\n",
    "\n",
    "# PID Core\n",
    "PID_core = MMIO(PID_CTRL_BASE_ADDRESS,ADDRESS_RANGE1, False)\n",
    "PID_Input_Data = MMIO(PID_INPUT_BASE_ADDRESS,ADDRESS_RANGE1, False)\n",
    "PID_Test_Data = MMIO(PID_TEST_BASE_ADDRESS,ADDRESS_RANGE2, False)   # 16k\n",
    "\n",
    "# UART scratch register address\n",
    "SCRATCH_REG      =   0x101C \n",
    "\n",
    "# setting WHO_AM_I value for debug\n",
    "#UART_core.write(SCRATCH_REG,0xFF)\n",
    "\n",
    "print('UART16550 Core Configuration Complete')\n",
    "print('')\n",
    "print('done')"
   ]
  },
  {
   "cell_type": "markdown",
   "metadata": {},
   "source": [
    "### Starting HLS Cores"
   ]
  },
  {
   "cell_type": "code",
   "execution_count": 82,
   "metadata": {},
   "outputs": [
    {
     "name": "stdout",
     "output_type": "stream",
     "text": [
      "CONFIG_REG UART: \t 131\n",
      "CONFIG_REG RC: \t\t 131\n",
      "CONFIG_REG Flight Main:  131\n",
      "CONFIG_REG PID: \t 131\n",
      "\n",
      "\n"
     ]
    }
   ],
   "source": [
    "# NOTE, starting last core in chain first\n",
    "# PID -> FLight_Main -> RC_Receiver -> UART_Driver\n",
    "\n",
    "# setting ap_start/auto reset on PID core\n",
    "#PID_core.write(0x00,0x01)  # runs once\n",
    "PID_core.write(0x00,0x81) # runs continuously\n",
    "\n",
    "# setting ap_start/auto reset on Flight main\n",
    "#Flight_Main_core.write(0x00,0x01)  # runs once\n",
    "Flight_Main_core.write(0x00,0x81) # runs continuously\n",
    "\n",
    "# setting ap_start/auto reset on RC Receiver\n",
    "#RC_Driver.write(0x00,0x01)  # runs once\n",
    "RC_Driver.write(0x00,0x81) # runs continuously\n",
    "\n",
    "# setting ap_start/auto reset on UART Driver\n",
    "#UART_Driver.write(0x00,0x01)  # runs once\n",
    "UART_Driver.write(0x00,0x81) # runs continuously\n",
    "\n",
    "\n",
    "# reading back CONFIG registers for HLS cores\n",
    "CONFIG_REG4 = PID_core.read(0x00)\n",
    "CONFIG_REG3 = Flight_Main_core.read(0x00)\n",
    "CONFIG_REG2 = RC_Driver.read(0x00)\n",
    "CONFIG_REG1 = UART_Driver.read(0x00)\n",
    "\n",
    "\n",
    "print('CONFIG_REG UART: \\t', CONFIG_REG1)\n",
    "print('CONFIG_REG RC: \\t\\t', CONFIG_REG2)\n",
    "print('CONFIG_REG Flight Main: ', CONFIG_REG3)\n",
    "print('CONFIG_REG PID: \\t', CONFIG_REG4)\n",
    "print('')\n",
    "print('')"
   ]
  },
  {
   "cell_type": "markdown",
   "metadata": {},
   "source": [
    "### UART Driver Configuration Confirmation and Status"
   ]
  },
  {
   "cell_type": "code",
   "execution_count": null,
   "metadata": {},
   "outputs": [],
   "source": [
    "\n",
    "# UART16650 Line status register offset\n",
    "LINE_STATUS_REG  =   0x1014 \n",
    "\n",
    "# reading scratch register for configuration verification, expect 0x45\n",
    "test_read = UART_core.read(SCRATCH_REG)\n",
    "print('WHO_AM_I: \\t' + str(test_read))\n",
    "\n",
    "# reading FIFO status of UART core\n",
    "# Overrun Error = 1 indicates RX FIFO Overflow\n",
    "OVERRUN_ERROR = UART_core.read(LINE_STATUS_REG)\n",
    "OVERRUN_ERROR = OVERRUN_ERROR & 0x02 # grabbing bit 1\n",
    "print('OVERRUN_ERROR: ', OVERRUN_ERROR,'\\r')\n",
    "\n",
    "\n",
    "print('')\n",
    "print('done')"
   ]
  },
  {
   "cell_type": "markdown",
   "metadata": {},
   "source": [
    "### RC Receiver MMIO reads for data flow verification"
   ]
  },
  {
   "cell_type": "code",
   "execution_count": 85,
   "metadata": {},
   "outputs": [
    {
     "name": "stdout",
     "output_type": "stream",
     "text": [
      "Throttle Input RC Core: \t  172\n",
      "Roll Input RC Core: \t\t  995\n",
      "Pitch Input RC Core: \t\t 1001\n",
      "Yaw Input RC Core: \t\t 1003\n",
      "Arm Input RC Core: \t\t 1811\n",
      "Mode Input RC Core: \t\t 172\n",
      "\n",
      "\n",
      "Throttle Output RC Core: \t 0.00000\n",
      "Roll Output RC Core: \t\t -0.00684\n",
      "Pitch Output RC Core: \t\t 0.00061\n",
      "Yaw Output RC Core: \t\t 0.00317\n",
      "Arm Output RC Core: \t\t 1\n",
      "Mode Output RC Core: \t\t 0\n",
      "\n",
      "done\n"
     ]
    }
   ],
   "source": [
    "\n",
    "# reading RC Receiver input data\n",
    "test1 = RC_TEST_Data.read(index_0) \n",
    "test2 = RC_TEST_Data.read(index_1)\n",
    "test3 = RC_TEST_Data.read(index_2)\n",
    "test4 = RC_TEST_Data.read(index_3)\n",
    "test5 = RC_TEST_Data.read(index_4)\n",
    "test6 = RC_TEST_Data.read(index_5)\n",
    "\n",
    "# reading RC Receiver output data\n",
    "test7 = RC_TEST_Data.read(index_6)\n",
    "test8 = RC_TEST_Data.read(index_7)\n",
    "if( test8 > 0x7FFFFFFF ):    # 2147483647\n",
    "    test8 = -(0xFFFFFFFF - test8 + 1)  # 4294967295\n",
    "test9 = RC_TEST_Data.read(index_8)\n",
    "if( test9 > 0x7FFFFFFF ):\n",
    "    test9 = -(0xFFFFFFFF - test9 + 1)\n",
    "test10 = RC_TEST_Data.read(index_9)\n",
    "if( test10 > 0x7FFFFFFF ):\n",
    "    test10 = -(0xFFFFFFFF - test10 + 1)\n",
    "test11 = RC_TEST_Data.read(index_10)\n",
    "test12 = RC_TEST_Data.read(index_11)\n",
    "\n",
    "print('Throttle Input RC Core: \\t', \"%4d\"% (test1 >> 13))\n",
    "print('Roll Input RC Core: \\t\\t', \"%4d\"% (test2 >> 13))\n",
    "print('Pitch Input RC Core: \\t\\t', \"%4d\"% (test3 >> 13))\n",
    "print('Yaw Input RC Core: \\t\\t', \"%4d\"% (test4 >> 13))\n",
    "print('Arm Input RC Core: \\t\\t', \"%1d\"% (test5 >> 13))\n",
    "print('Mode Input RC Core: \\t\\t', \"%1d\"% (test6 >> 13))\n",
    "print('')\n",
    "print('')\n",
    "print('Throttle Output RC Core: \\t', \"%1.5f\"%((test7 * pow(2,-13))))\n",
    "print('Roll Output RC Core: \\t\\t', \"%1.5f\"%((test8 * pow(2,-13))))\n",
    "print('Pitch Output RC Core: \\t\\t', \"%1.5f\"%(test9 * pow(2,-13)))\n",
    "print('Yaw Output RC Core: \\t\\t', \"%1.5f\"%(test10 * pow(2,-13)))\n",
    "print('Arm Output RC Core: \\t\\t', \"%1d\"% (test11 * pow(2,-13)))\n",
    "print('Mode Output RC Core: \\t\\t', \"%1d\"% (test12 * pow(2,-13)))\n",
    "\n",
    "print('')\n",
    "print('done')"
   ]
  },
  {
   "cell_type": "markdown",
   "metadata": {},
   "source": [
    "### Flight Main MMIO reads for data flow verification"
   ]
  },
  {
   "cell_type": "code",
   "execution_count": 86,
   "metadata": {},
   "outputs": [
    {
     "name": "stdout",
     "output_type": "stream",
     "text": [
      "Throttle Input Flight Main: \t 0.00000\n",
      "Roll Input Flight Main: \t -0.00684\n",
      "Pitch Input Flight Main: \t 0.00439\n",
      "Yaw Input Flight Main: \t\t -0.00061\n",
      "Arm Input Flight Main: \t\t 1\n",
      "Mode Input Flight Main: \t 0\n",
      "\n",
      "\n",
      "Throttle Output Flight Main: \t 0.00000\n",
      "Roll Output Flight Main: \t -0.00684\n",
      "Pitch Output Flight Main: \t 0.00439\n",
      "Yaw Output Flight Main: \t -0.00061\n",
      "Arm Output Flight Main: \t 1\n",
      "Mode Output Flight Main: \t 0\n",
      "\n",
      "done\n"
     ]
    }
   ],
   "source": [
    "\n",
    "# reading Flight Main input data\n",
    "test1 = Flight_Main_TEST_Data.read(index_0)\n",
    "if( test1 > 0x7FFFFFFF ):    # 2147483647\n",
    "    test1 = -(0xFFFFFFFF - test1 + 1)  # 4294967295\n",
    "test2 = Flight_Main_TEST_Data.read(index_1)\n",
    "if( test2 > 0x7FFFFFFF ):    # 2147483647\n",
    "    test2 = -(0xFFFFFFFF - test2 + 1)  # 4294967295\n",
    "test3 = Flight_Main_TEST_Data.read(index_2)\n",
    "if( test3 > 0x7FFFFFFF ):    # 2147483647\n",
    "    test3 = -(0xFFFFFFFF - test3 + 1)  # 4294967295\n",
    "test4 = Flight_Main_TEST_Data.read(index_3)\n",
    "if( test4 > 0x7FFFFFFF ):    # 2147483647\n",
    "    test4 = -(0xFFFFFFFF - test4 + 1)  # 4294967295\n",
    "test5 = Flight_Main_TEST_Data.read(index_4)\n",
    "test6 = Flight_Main_TEST_Data.read(index_5)\n",
    "\n",
    "# reading Flight Main output data\n",
    "test7 = Flight_Main_TEST_Data.read(index_6)\n",
    "if( test7 > 0x7FFFFFFF ):    # 2147483647\n",
    "    test7 = -(0xFFFFFFFF - test7 + 1)  # 4294967295\n",
    "test8 = Flight_Main_TEST_Data.read(index_7)\n",
    "if( test8 > 0x7FFFFFFF ):    # 2147483647\n",
    "    test8 = -(0xFFFFFFFF - test8 + 1)  # 4294967295\n",
    "test9 = Flight_Main_TEST_Data.read(index_8)\n",
    "if( test9 > 0x7FFFFFFF ):    # 2147483647\n",
    "    test9 = -(0xFFFFFFFF - test9 + 1)  # 4294967295\n",
    "test10 = Flight_Main_TEST_Data.read(index_9)\n",
    "if( test10 > 0x7FFFFFFF ):    # 2147483647\n",
    "    test10 = -(0xFFFFFFFF - test10 + 1)  # 4294967295\n",
    "test11 = Flight_Main_TEST_Data.read(index_10)\n",
    "test12 = Flight_Main_TEST_Data.read(index_11)\n",
    "\n",
    "print('Throttle Input Flight Main: \\t',\"%1.5F\"% (test1 * pow(2,-13)))\n",
    "print('Roll Input Flight Main: \\t',\"%1.5F\"% (test2 * pow(2,-13)))\n",
    "print('Pitch Input Flight Main: \\t',\"%1.5F\"% (test3 * pow(2,-13)))\n",
    "print('Yaw Input Flight Main: \\t\\t',\"%1.5F\"% (test4 * pow(2,-13)))\n",
    "print('Arm Input Flight Main: \\t\\t',\"%1d\"% (test5 * pow(2,-13)))\n",
    "print('Mode Input Flight Main: \\t',\"%1d\"% (test6 * pow(2,-13)))\n",
    "print('')\n",
    "print('')\n",
    "print('Throttle Output Flight Main: \\t',\"%1.5F\"% (test7 * pow(2,-13)))\n",
    "print('Roll Output Flight Main: \\t',\"%1.5F\"% (test8 * pow(2,-13)))\n",
    "print('Pitch Output Flight Main: \\t',\"%1.5F\"% (test9 * pow(2,-13)))\n",
    "print('Yaw Output Flight Main: \\t',\"%1.5F\"% (test10 * pow(2,-13)))\n",
    "print('Arm Output Flight Main: \\t',\"%1d\"% (test11 * pow(2,-13)))\n",
    "print('Mode Output Flight Main: \\t',\"%1d\"% (test12 * pow(2,-13)))\n",
    "\n",
    "\n",
    "\n",
    "\n",
    "print('')\n",
    "print('done')"
   ]
  },
  {
   "cell_type": "markdown",
   "metadata": {},
   "source": [
    "### PID MMIO reads for data flow verification"
   ]
  },
  {
   "cell_type": "code",
   "execution_count": 133,
   "metadata": {},
   "outputs": [
    {
     "name": "stdout",
     "output_type": "stream",
     "text": [
      "Throttle Input PID: \t 0.40881\n",
      "Roll Input PID: \t -0.00940\n",
      "Pitch Input PID: \t 0.00061\n",
      "Yaw Input PID: \t\t 0.00317\n",
      "ARM Flag PID: \t\t 1\n",
      "Flight Mode Flag PID: \t 0\n",
      "\n",
      "\n",
      "M1 out PID: \t 0.409\n",
      "M2 out PID: \t 0.409\n",
      "M3 out PID: \t 0.408\n",
      "M4 out PID: \t 0.408\n",
      "M5 out PID: \t 0.409\n",
      "M6 out PID: \t 0.409\n",
      "M7 out PID: \t 0.408\n",
      "M8 out PID: \t 0.408\n",
      "\n",
      "done\n"
     ]
    }
   ],
   "source": [
    "\n",
    "# reading PID input data\n",
    "TEST_READ1  = PID_Test_Data.read(index_0)\n",
    "if( TEST_READ1 > 0x7FFFFFFF ):    # 2147483647\n",
    "    TEST_READ1 = -(0xFFFFFFFF - TEST_READ1 + 1)  # 4294967295\n",
    "TEST_READ2  = PID_Test_Data.read(index_1)\n",
    "if( TEST_READ2 > 0x7FFFFFFF ):    # 2147483647\n",
    "    TEST_READ2 = -(0xFFFFFFFF - TEST_READ2 + 1)  # 4294967295\n",
    "TEST_READ3  = PID_Test_Data.read(index_2)\n",
    "if( TEST_READ3 > 0x7FFFFFFF ):    # 2147483647\n",
    "    TEST_READ3 = -(0xFFFFFFFF - TEST_READ3 + 1)  # 4294967295\n",
    "TEST_READ4  = PID_Test_Data.read(index_3)\n",
    "if( TEST_READ4 > 0x7FFFFFFF ):    # 2147483647\n",
    "    TEST_READ4 = -(0xFFFFFFFF - TEST_READ4 + 1)  # 4294967295\n",
    "TEST_READ5  = PID_Test_Data.read(index_4)\n",
    "TEST_READ6  = PID_Test_Data.read(index_5)\n",
    "\n",
    "# reading PID motor outputs\n",
    "TEST_READ7  = PID_Test_Data.read(index_6)\n",
    "TEST_READ8  = PID_Test_Data.read(index_7)\n",
    "TEST_READ9  = PID_Test_Data.read(index_8)\n",
    "TEST_READ10 = PID_Test_Data.read(index_9)\n",
    "TEST_READ11 = PID_Test_Data.read(index_10)\n",
    "TEST_READ12 = PID_Test_Data.read(index_11)\n",
    "TEST_READ13 = PID_Test_Data.read(index_12)\n",
    "TEST_READ14 = PID_Test_Data.read(index_13)\n",
    "\n",
    "\n",
    "print('Throttle Input PID: \\t', \"%1.5F\"% (TEST_READ1 * pow(2,-13)))\n",
    "print('Roll Input PID: \\t', \"%1.5F\"% (TEST_READ2 * pow(2,-13)))\n",
    "print('Pitch Input PID: \\t', \"%1.5F\"% (TEST_READ3 * pow(2,-13)))\n",
    "print('Yaw Input PID: \\t\\t', \"%1.5F\"% (TEST_READ4 * pow(2,-13)))\n",
    "print('ARM Flag PID: \\t\\t', \"%1d\"% (TEST_READ5 * pow(2,-13)))\n",
    "print('Flight Mode Flag PID: \\t', \"%1d\"% (TEST_READ6 * pow(2,-13)))\n",
    "print('')\n",
    "print('')\n",
    "print('M1 out PID: \\t', \"%1.3F\"% (TEST_READ7 * pow(2,-13)))\n",
    "print('M2 out PID: \\t', \"%1.3F\"% (TEST_READ8 * pow(2,-13)))\n",
    "print('M3 out PID: \\t', \"%1.3F\"% (TEST_READ9 * pow(2,-13)))\n",
    "print('M4 out PID: \\t', \"%1.3F\"% (TEST_READ10 * pow(2,-13)))\n",
    "print('M5 out PID: \\t', \"%1.3F\"% (TEST_READ11 * pow(2,-13)))\n",
    "print('M6 out PID: \\t', \"%1.3F\"% (TEST_READ12 * pow(2,-13)))\n",
    "print('M7 out PID: \\t', \"%1.3F\"% (TEST_READ13 * pow(2,-13)))\n",
    "print('M8 out PID: \\t', \"%1.3F\"% (TEST_READ14 * pow(2,-13)))\n",
    "\n",
    "\n",
    "print('')\n",
    "print('done')"
   ]
  },
  {
   "cell_type": "markdown",
   "metadata": {},
   "source": [
    "# RC Receiver Data Flow to PID controller Real-Time DEMO"
   ]
  },
  {
   "cell_type": "markdown",
   "metadata": {},
   "source": [
    "#### RC Inputs to PID"
   ]
  },
  {
   "cell_type": "code",
   "execution_count": null,
   "metadata": {},
   "outputs": [],
   "source": [
    "# RC Receiver Demo - RC controls\n",
    "from __future__ import print_function\n",
    "import sys\n",
    "count = 0\n",
    "\n",
    "print('')\n",
    "print('')\n",
    "while(count < 10000):\n",
    "    \n",
    "    # readign PID input data - RC control\n",
    "    TEST_READ1  = PID_Test_Data.read(index_0)\n",
    "    if( TEST_READ1 > 0x7FFFFFFF ):    # 2147483647\n",
    "        TEST_READ1 = -(0xFFFFFFFF - TEST_READ1 + 1)  # 4294967295\n",
    "    TEST_READ1 = TEST_READ1 * pow(2,-13)\n",
    "    TEST_READ2  = PID_Test_Data.read(index_1)\n",
    "    if( TEST_READ2 > 0x7FFFFFFF ):    # 2147483647\n",
    "        TEST_READ2 = -(0xFFFFFFFF - TEST_READ2 + 1)  # 4294967295\n",
    "    TEST_READ2 = TEST_READ2 * pow(2,-13)\n",
    "    TEST_READ3  = PID_Test_Data.read(index_2)\n",
    "    if( TEST_READ3 > 0x7FFFFFFF ):    # 2147483647\n",
    "        TEST_READ3 = -(0xFFFFFFFF - TEST_READ3 + 1)  # 4294967295\n",
    "    TEST_READ3 = TEST_READ3 * pow(2,-13)\n",
    "    TEST_READ4  = PID_Test_Data.read(index_3)\n",
    "    if( TEST_READ4 > 0x7FFFFFFF ):    # 2147483647\n",
    "        TEST_READ4 = -(0xFFFFFFFF - TEST_READ4 + 1)  # 4294967295\n",
    "    TEST_READ4 = TEST_READ4 * pow(2,-13)\n",
    "    TEST_READ5  = PID_Test_Data.read(index_4) * pow(2,-13)\n",
    "    TEST_READ6  = PID_Test_Data.read(index_5) * pow(2,-13)\n",
    "    \n",
    "    \n",
    "    #print('')\n",
    "    print('T: ', \"%1.3F\"% (TEST_READ1),'  R: ',\"%1.3F\"% (TEST_READ2),'  P: ',\"%1.3F\"% (TEST_READ3),'  Y: ',\"%1.3F\"% (TEST_READ4),'  A: ',\"%1d\"% (TEST_READ5),'  M: ',\"%1d\"% (TEST_READ6),'  ', end='\\r')\n",
    "    \n",
    "    time.sleep(0.25) \n",
    "    sys.stdout.flush()\n",
    "    count = count + 1\n",
    "print(\"\")"
   ]
  },
  {
   "cell_type": "markdown",
   "metadata": {},
   "source": [
    "#### PID Outputs to PWM"
   ]
  },
  {
   "cell_type": "code",
   "execution_count": null,
   "metadata": {},
   "outputs": [],
   "source": [
    "# RC Receiver Demo  Motor Outputs\n",
    "from __future__ import print_function\n",
    "import sys\n",
    "count = 0\n",
    "\n",
    "print('')\n",
    "print('')\n",
    "while(count < 10000):\n",
    "    \n",
    "    #motor outputs\n",
    "    TEST_READ7  = PID_Test_Data.read(index_6) * pow(2,-13)\n",
    "    TEST_READ8  = PID_Test_Data.read(index_7) * pow(2,-13)\n",
    "    TEST_READ9  = PID_Test_Data.read(index_8) * pow(2,-13)\n",
    "    TEST_READ10 = PID_Test_Data.read(index_9) * pow(2,-13)\n",
    "    TEST_READ11 = PID_Test_Data.read(index_10) * pow(2,-13)\n",
    "    TEST_READ12 = PID_Test_Data.read(index_11) * pow(2,-13)\n",
    "    TEST_READ13 = PID_Test_Data.read(index_12) * pow(2,-13)\n",
    "    TEST_READ14 = PID_Test_Data.read(index_13) * pow(2,-13)\n",
    "\n",
    "    #print('')\n",
    "    print('M1: ', \"%1.4F\"% (TEST_READ7),'M2: ',\"%1.4F\"% (TEST_READ8),'M3: ',\"%1.4F\"% (TEST_READ9),'M4: ',\"%1.4F\"% (TEST_READ10),'M5: ',\"%1.4F\"% (TEST_READ11),'M6: ',\"%1.4F\"% (TEST_READ12),'M7: ',\"%1.4F\"% (TEST_READ13),'M8: ',\"%1.4F\"% (TEST_READ14),'  ', end='\\r')\n",
    "    \n",
    "    time.sleep(0.25) \n",
    "    sys.stdout.flush()\n",
    "    count = count + 1\n",
    "print(\"\")"
   ]
  },
  {
   "cell_type": "markdown",
   "metadata": {},
   "source": [
    "### End of DEMO code"
   ]
  },
  {
   "cell_type": "code",
   "execution_count": 48,
   "metadata": {},
   "outputs": [
    {
     "name": "stdout",
     "output_type": "stream",
     "text": [
      "819.2\n"
     ]
    }
   ],
   "source": []
  },
  {
   "cell_type": "code",
   "execution_count": null,
   "metadata": {},
   "outputs": [],
   "source": [
    "# grady 237C code\n",
    "\n",
    "#define FADD(a,b)   ((a)+(b))\n",
    "#define FMUL(a,b,q) (((a)*(b))>>(q))\n",
    "#define FCONV(a, q1, q2) (((q2)>(q1)) ? (a)<<((q2)-(q1)) : (a)>>((q1)-(q2)))\n",
    "#define TOFIX(d, q) ((int)( (d)*(double)(1<<(q)) ))\n",
    "#define TOFLT(a, q) ( (double)(a) / (double)(1<<(q)) )"
   ]
  },
  {
   "cell_type": "code",
   "execution_count": null,
   "metadata": {},
   "outputs": [],
   "source": [
    "# frank code\n",
    "\n",
    "show_bit(uint32_t val)\n",
    "{\n",
    "    for(int i = 0; i < 32; i++)\n",
    "{\n",
    "//if lsb of val is 1\n",
    "if(val & 0x01)\n",
    "{\n",
    "    printf(\"1\");\n",
    "}\n",
    "else\n",
    "{\n",
    "    printf(\"0\");\n",
    "}\n",
    "val = val >> 1;\n",
    "\n",
    "\n",
    "show_float(uint32_t val, uint8_t decimal_bit)\n",
    "{\n",
    "    float temp_val = 0;\n",
    "\n",
    "    if(val & 0x80000000)\n",
    "    {\n",
    "        print(\"-\");\n",
    "        val = 0xFFFFFFFF + val; //flips 0 to 1 and 1 to 0\n",
    "        val = val + 1; //the +1 to twos compliment\n",
    "    }\n",
    "}"
   ]
  },
  {
   "cell_type": "code",
   "execution_count": null,
   "metadata": {},
   "outputs": [],
   "source": []
  }
 ],
 "metadata": {
  "kernelspec": {
   "display_name": "Python 3",
   "language": "python",
   "name": "python3"
  },
  "language_info": {
   "codemirror_mode": {
    "name": "ipython",
    "version": 3
   },
   "file_extension": ".py",
   "mimetype": "text/x-python",
   "name": "python",
   "nbconvert_exporter": "python",
   "pygments_lexer": "ipython3",
   "version": "3.6.5"
  }
 },
 "nbformat": 4,
 "nbformat_minor": 2
}
