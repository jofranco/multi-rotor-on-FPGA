{
 "cells": [
  {
   "cell_type": "markdown",
   "metadata": {},
   "source": [
    "# Initialize"
   ]
  },
  {
   "cell_type": "code",
   "execution_count": 50,
   "metadata": {},
   "outputs": [
    {
     "name": "stdout",
     "output_type": "stream",
     "text": [
      "test print...\n"
     ]
    }
   ],
   "source": [
    "import pynq\n",
    "from pynq.overlays.base import BaseOverlay\n",
    "from ctypes import *\n",
    "import time\n",
    "import numpy as np\n",
    "\n",
    "ol = BaseOverlay(\"base.bit\")\n",
    "print('test print...')"
   ]
  },
  {
   "cell_type": "markdown",
   "metadata": {},
   "source": [
    "# PID"
   ]
  },
  {
   "cell_type": "code",
   "execution_count": 87,
   "metadata": {},
   "outputs": [
    {
     "data": {
      "text/html": [
       "<pre>Compile FAILED\n",
       "Error parsing code\n",
       "cell_magic:75:47: before: ;</pre>"
      ],
      "text/plain": [
       "<IPython.core.display.HTML object>"
      ]
     },
     "execution_count": 87,
     "metadata": {},
     "output_type": "execute_result"
    }
   ],
   "source": [
    "%%microblaze ol.PMODA\n",
    "\n",
    "#define MOTOR_COUNT 6\n",
    "#define RC_CHANNELS 6\n",
    "#define clip(in,low,high) ((in)<(low)?(low):((in)>(high)?(high):(in)))\n",
    "\n",
    "float MIX_C[6][3] = {{0.5,-0.57735026919,1},{1,0,-1},{0.5,0.57735026919,1},{-0.5,-0.57735026919,-1},{-1,0,1},{-0.5,0.57735026919,-1}};\n",
    "\n",
    "float * pid(float rcCmdIn[5],float measured[4],float kp[3],float kd[2], float ki[2],float commandOut[4096]) {\n",
    "    \n",
    "// measured was a size of 4. not sure why. \n",
    "// rcCmdIn is size 5....thought there were 6 motors....\n",
    "\n",
    "float last_error[2]={0,0};\n",
    "float integral[2]={0,0};\n",
    "    \n",
    "float pid_o[3];\n",
    "float curr_error[2];\n",
    "float deriv[2];\n",
    "float correction[2];\n",
    "//****************************************\n",
    "//ROLL PID CONTROLLER\n",
    "//*****************************************/\n",
    "\n",
    "curr_error[0]= rcCmdIn[0] - measured[0]*5;\n",
    "    \n",
    "    \n",
    "integral[0] =  clip(integral[0] + curr_error[0],(-100),(100));\n",
    "deriv[0] = (curr_error[0]-last_error[0]);\n",
    "correction[0] = (kp[0] * curr_error[0]) + (ki[0] * integral[0]) + (kd[0] * deriv[0]);\n",
    "pid_o[0] = clip(correction[0],(-1),(.999));\n",
    "last_error[0] = curr_error[0];\n",
    "\n",
    "//#****************************************\n",
    "//#pitch PID CONTROLLER\n",
    "//#*****************************************/\n",
    "\n",
    "curr_error[1] = rcCmdIn[1] - measured[1]*5;\n",
    "integral[1] =  clip((integral[1] + curr_error[1]),(-100),(100));\n",
    "deriv[1] = (curr_error[1]-last_error[1]);\n",
    "correction[1] = (kp[1] * curr_error[1]) + (ki[1] * integral[1]) + (kd[1] * deriv[1]);\n",
    "pid_o[1] = clip(correction[1],(-1),(.999));\n",
    "last_error[1] = curr_error[1];\n",
    "\n",
    "//****************************************\n",
    "//yaw P CONTROLLER\n",
    "//****************************************\n",
    "\n",
    "pid_o[2] = kp[2]*(rcCmdIn[3] - measured[4]);\n",
    "\n",
    "\n",
    "//mixed _in contains noramlized values for each channel\n",
    "//lets convert those to what we want to use\n",
    "//change all to float and make sure thrust is scaled to [0,1)\n",
    "float r_c = pid_o[0];\n",
    "float p_c = pid_o[1];\n",
    "float t_c = rcCmdIn[2]*(.5)+(.5);//move scale to [-.5,.5) then [0,1)\n",
    "float y_c = pid_o[2];\n",
    "\n",
    "for(char i=0; i < 6; i++){\n",
    "float scaled_power = t_c+(r_c*MIX_C[i][0]+p_c*MIX_C[i][1]+ y_c*MIX_C[i][2])*(.33);\n",
    "commandOut[i]=(clip(scaled_power,(0),(.999)));\n",
    "}\n",
    "commandOut[6]=rcCmdIn[4];\n",
    "    return(commandOut);\n",
    "}\n",
    "\n",
    "float rcCmdIn= {1.0,1.0,1.0,1.0,1.0};\n",
    "float measured ={1,1,1,1}; \n",
    "float kp={1,1,1};\n",
    "float kd={1,1};\n",
    "float ki={1,1};\n",
    "float commandOut[4096];\n",
    "\n",
    "pid(rcCmdIn, measured, kp, kd,  ki, commandOut);"
   ]
  },
  {
   "cell_type": "code",
   "execution_count": 70,
   "metadata": {},
   "outputs": [
    {
     "ename": "NameError",
     "evalue": "name 'pid' is not defined",
     "output_type": "error",
     "traceback": [
      "\u001b[0;31m---------------------------------------------------------------------------\u001b[0m",
      "\u001b[0;31mNameError\u001b[0m                                 Traceback (most recent call last)",
      "\u001b[0;32m<ipython-input-70-b7b67139277f>\u001b[0m in \u001b[0;36m<module>\u001b[0;34m()\u001b[0m\n\u001b[1;32m      6\u001b[0m \u001b[0mcommanout\u001b[0m\u001b[0;34m=\u001b[0m\u001b[0mnp\u001b[0m\u001b[0;34m.\u001b[0m\u001b[0mzeros\u001b[0m\u001b[0;34m(\u001b[0m\u001b[0;36m4096\u001b[0m\u001b[0;34m)\u001b[0m\u001b[0;34m;\u001b[0m\u001b[0;34m\u001b[0m\u001b[0m\n\u001b[1;32m      7\u001b[0m \u001b[0;34m\u001b[0m\u001b[0m\n\u001b[0;32m----> 8\u001b[0;31m \u001b[0mpid\u001b[0m \u001b[0;34m(\u001b[0m \u001b[0mrcCmdIn\u001b[0m\u001b[0;34m,\u001b[0m \u001b[0mmeasured\u001b[0m\u001b[0;34m,\u001b[0m \u001b[0mkp\u001b[0m\u001b[0;34m,\u001b[0m \u001b[0mkd\u001b[0m\u001b[0;34m,\u001b[0m  \u001b[0mki\u001b[0m\u001b[0;34m,\u001b[0m \u001b[0mcommandOut\u001b[0m\u001b[0;34m)\u001b[0m\u001b[0;34m;\u001b[0m\u001b[0;34m\u001b[0m\u001b[0m\n\u001b[0m",
      "\u001b[0;31mNameError\u001b[0m: name 'pid' is not defined"
     ]
    }
   ],
   "source": [
    "rcCmdIn = [1.0,1.0,1.0,1.0,1.0];\n",
    "measured =[1,1,1,1]; #[roll,pitch,]\n",
    "kp=[1,1,1];\n",
    "kd=[1,1]\n",
    "ki=[1,1];\n",
    "commanout=np.zeros(4096);\n",
    "\n",
    "pid ( rcCmdIn, measured, kp, kd,  ki, commandOut);"
   ]
  },
  {
   "cell_type": "code",
   "execution_count": null,
   "metadata": {},
   "outputs": [],
   "source": []
  }
 ],
 "metadata": {
  "kernelspec": {
   "display_name": "Python 3",
   "language": "python",
   "name": "python3"
  },
  "language_info": {
   "codemirror_mode": {
    "name": "ipython",
    "version": 3
   },
   "file_extension": ".py",
   "mimetype": "text/x-python",
   "name": "python",
   "nbconvert_exporter": "python",
   "pygments_lexer": "ipython3",
   "version": "3.6.5"
  }
 },
 "nbformat": 4,
 "nbformat_minor": 2
}
