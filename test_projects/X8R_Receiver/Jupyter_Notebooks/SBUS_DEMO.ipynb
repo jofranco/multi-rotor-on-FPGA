{
 "cells": [
  {
   "cell_type": "code",
   "execution_count": 1,
   "metadata": {},
   "outputs": [
    {
     "data": {
      "application/javascript": [
       "\n",
       "require(['notebook/js/codecell'], function(codecell) {\n",
       "  codecell.CodeCell.options_default.highlight_modes[\n",
       "      'magic_text/x-csrc'] = {'reg':[/^%%microblaze/]};\n",
       "  Jupyter.notebook.events.one('kernel_ready.Kernel', function(){\n",
       "      Jupyter.notebook.get_cells().map(function(cell){\n",
       "          if (cell.cell_type == 'code'){ cell.auto_highlight(); } }) ;\n",
       "  });\n",
       "});\n"
      ]
     },
     "metadata": {},
     "output_type": "display_data"
    }
   ],
   "source": [
    "#------------------------------------------------------------------------\n",
    "# WES 269 SBUS Demo Code\n",
    "#\n",
    "# This code serves as a baseline for configuring the UART16550 core\n",
    "# and polling data from the RX FIFO\n",
    "#-------------------------------------------------------------------------\n",
    "\n",
    "from pynq import Overlay\n",
    "from pynq import MMIO\n",
    "import time\n",
    "import numpy as np"
   ]
  },
  {
   "cell_type": "code",
   "execution_count": 72,
   "metadata": {},
   "outputs": [
    {
     "name": "stdout",
     "output_type": "stream",
     "text": [
      "  \n",
      "0.3280010223388672 seconds to program bitstream\n"
     ]
    }
   ],
   "source": [
    "# Load bitstream\n",
    "ol = Overlay('SBUS_DEMO_ext_rcvr_clk.bit')\n",
    "\n",
    "# Download bitstream to FPGA\n",
    "t_before_bitstream = time.time()\n",
    "ol.download()\n",
    "t_after_bitstream = time.time()\n",
    "print('  ')\n",
    "print(t_after_bitstream - t_before_bitstream, 'seconds to program bitstream')"
   ]
  },
  {
   "cell_type": "code",
   "execution_count": 73,
   "metadata": {},
   "outputs": [
    {
     "name": "stdout",
     "output_type": "stream",
     "text": [
      "Address Definitions complete\n"
     ]
    }
   ],
   "source": [
    "# Address space definitions\n",
    "\n",
    "IP_BASE_ADDRESS = 0X43C00000\n",
    "ADDRESS_RANGE = 0x10000\n",
    "\n",
    "RX_BUF_REG       =   0x1000        #Receiver Buffer Register              LCR[7] = 0\n",
    "TX_HOLD_REG      =   0x1000        #Transmitter Holding Register          LCR[7] = 0\n",
    "INT_EN_REG       =   0x1004        #Interrupt Enable Register             LCR[7] = 0\n",
    "INT_ID_REG       =   0x1008        #Interrupt Identification Register     LCR[7] = x\n",
    "FIFO_CNTRL_REG   =   0x1008        #FIFO Control Register                 LCR[7] = x (write), LCR[7] = 1 (read)\n",
    "LINE_CNTRL_REG   =   0x100C        #Line Control Register                 LCR[7] = x\n",
    "MODEM_CNTRL_REG  =   0x1010        #Modem Control Register                LCR[7] = x\n",
    "LINE_STATUS_REG  =   0x1014        #Line Status Register                  LCR[7] = x\n",
    "MODEM_STATUS_REG =   0x1018        #Modem Status Register                 LCR[7] = x\n",
    "SCRATCH_REG      =   0x101C        #Scratch Register                      LCR[7] = x\n",
    "DIV_LATCH_LSB    =   0x1000        #Divisor Latch LSB Register            LCR[7] = 1\n",
    "DIV_LATCH_MSB    =   0x1004        #Divisor Latch MSB Register            LCR[7] = 1\n",
    "\n",
    "NUM_BYTES        =   25\n",
    "START_BYTE     =   0xF0\n",
    "STOP_BYTE      =   0x00\n",
    "\n",
    "print('Address Definitions complete')"
   ]
  },
  {
   "cell_type": "code",
   "execution_count": 74,
   "metadata": {},
   "outputs": [
    {
     "name": "stdout",
     "output_type": "stream",
     "text": [
      "UART16550 Core Configuration Complete\n"
     ]
    }
   ],
   "source": [
    "# configuring UART16550 core\n",
    "\n",
    "UART_core = MMIO(IP_BASE_ADDRESS,ADDRESS_RANGE)\n",
    "\n",
    "# enable divisor latch, set baud divisor\n",
    "UART_core.write(LINE_CNTRL_REG, 0x00000080)\n",
    "#UART_core.write(DIV_LATCH_LSB, 0x3E) # divide by 62 for 100MHz AXI clock\n",
    "UART_core.write(DIV_LATCH_LSB, 0x00000001) # divide by 1 for external 1.6 MHz BAUD rate clock\n",
    "#UART_core.write(DIV_LATCH_LSB, 0x00000002) # divide by 2 for external 3.2 MHz BAUD rate clock\n",
    "UART_core.write(DIV_LATCH_MSB, 0x00000000)\n",
    "\n",
    "# configure data exchange, 100k BAUD, even parity, 2 stop bits, 8 data bits\n",
    "UART_core.write(LINE_CNTRL_REG, 0x00000000)\n",
    "UART_core.write(LINE_CNTRL_REG, 0x0000001F)\n",
    "\n",
    "# enable and configure FIFO\n",
    "#UART_core.write(LINE_CNTRL_REG, 0x40)\n",
    "#UART_core.write(FIFO_CNTRL_REG, 0x05)\n",
    "\n",
    "# reset FIFOs\n",
    "#UART_core.write(FIFO_CNTRL_REG, 0x07)\n",
    "#UART_core.write(FIFO_CNTRL_REG, 0x05)\n",
    "#UART_core.write(LINE_CNTRL_REG, 0x40)\n",
    "\n",
    "# setting WHO_AM_I value\n",
    "UART_core.write(SCRATCH_REG,0x45)\n",
    "\n",
    "\n",
    "print('UART16550 Core Configuration Complete')"
   ]
  },
  {
   "cell_type": "code",
   "execution_count": 75,
   "metadata": {},
   "outputs": [
    {
     "name": "stdout",
     "output_type": "stream",
     "text": [
      "Reset UART FIFOs\n"
     ]
    }
   ],
   "source": [
    "# reset FIFOs\n",
    "\n",
    "#UART_core.write(FIFO_CNTRL_REG, 0x7)\n",
    "#UART_core.write(FIFO_CNTRL_REG, 0x5)\n",
    "\n",
    "print('Reset UART FIFOs')\n"
   ]
  },
  {
   "cell_type": "code",
   "execution_count": 76,
   "metadata": {},
   "outputs": [
    {
     "name": "stdout",
     "output_type": "stream",
     "text": [
      "Array allocation complete\n"
     ]
    }
   ],
   "source": [
    "# allocating storage array for data\n",
    "\n",
    "ARRAY_SIZE = 50000\n",
    "\n",
    "buf_data = np.empty([ARRAY_SIZE,], dtype=np.int8)\n",
    "\n",
    "print('Array allocation complete')\n"
   ]
  },
  {
   "cell_type": "code",
   "execution_count": 115,
   "metadata": {},
   "outputs": [
    {
     "name": "stdout",
     "output_type": "stream",
     "text": [
      "[62, 62]\n",
      "\n",
      "3e3e\n"
     ]
    }
   ],
   "source": [
    "# grabbing data from the UART bus\n",
    "\n",
    "NUM_BYTES = 2\n",
    "\n",
    "BIT_ONE = 0x00000001\n",
    "buffer = [0]*(NUM_BYTES)\n",
    "BYTES_READ = 0\n",
    "\n",
    "\n",
    "# resetting RX FIFO\n",
    "#UART_core.write(FIFO_CNTRL_REG, 0x7)\n",
    "\n",
    "while(BYTES_READ != (NUM_BYTES)):\n",
    "    \n",
    "    #read from the RX FIFO when data present\n",
    "    while((UART_core.read(LINE_STATUS_REG) & BIT_ONE) != 1):\n",
    "        pass\n",
    "    \n",
    "    buffer[0] = UART_core.read(RX_BUF_REG)\n",
    "    #if ( buffer[0] == START_BYTE):\n",
    "    if ( buffer[0]):\n",
    "        BYTES_READ += 1\n",
    "        for i in range(NUM_BYTES - 1):\n",
    "            buffer[BYTES_READ] = UART_core.read(RX_BUF_REG)\n",
    "            BYTES_READ += 1\n",
    "    else:\n",
    "        pass\n",
    "    #print('Total bytes read: ', BYTES_READ)\n",
    "\n",
    "    \n",
    "\n",
    "    \n",
    "print(buffer)\n",
    "print('')\n",
    "print(''.join('%02x'%i for i in buffer))   # printing buffer contents\n"
   ]
  },
  {
   "cell_type": "code",
   "execution_count": 93,
   "metadata": {},
   "outputs": [
    {
     "name": "stdout",
     "output_type": "stream",
     "text": [
      "WHO_AM_I: 69\n"
     ]
    }
   ],
   "source": [
    "# testing\n",
    "\n",
    "WHO_AM_I = UART_core.read(SCRATCH_REG)\n",
    "\n",
    "print('WHO_AM_I: ' + str(WHO_AM_I))"
   ]
  },
  {
   "cell_type": "code",
   "execution_count": null,
   "metadata": {},
   "outputs": [],
   "source": []
  },
  {
   "cell_type": "code",
   "execution_count": 51,
   "metadata": {},
   "outputs": [
    {
     "ename": "NameError",
     "evalue": "name 'FSIZE' is not defined",
     "output_type": "error",
     "traceback": [
      "\u001b[0;31m---------------------------------------------------------------------------\u001b[0m",
      "\u001b[0;31mNameError\u001b[0m                                 Traceback (most recent call last)",
      "\u001b[0;32m<ipython-input-51-aa55ea55b9dd>\u001b[0m in \u001b[0;36m<module>\u001b[0;34m()\u001b[0m\n\u001b[1;32m      4\u001b[0m     \u001b[0mfile_out\u001b[0m\u001b[0;34m.\u001b[0m\u001b[0mwrite\u001b[0m\u001b[0;34m(\u001b[0m\u001b[0;34m\"             Golden Output versus OFDM Receiver Output           \\n\"\u001b[0m\u001b[0;34m)\u001b[0m\u001b[0;34m\u001b[0m\u001b[0m\n\u001b[1;32m      5\u001b[0m     \u001b[0mfile_out\u001b[0m\u001b[0;34m.\u001b[0m\u001b[0mwrite\u001b[0m\u001b[0;34m(\u001b[0m\u001b[0;34m\"-----------------------------------------------------------------\\n\\n\"\u001b[0m\u001b[0;34m)\u001b[0m\u001b[0;34m\u001b[0m\u001b[0m\n\u001b[0;32m----> 6\u001b[0;31m     \u001b[0;32mfor\u001b[0m \u001b[0mk\u001b[0m \u001b[0;32min\u001b[0m \u001b[0mrange\u001b[0m\u001b[0;34m(\u001b[0m\u001b[0mFSIZE\u001b[0m\u001b[0;34m)\u001b[0m\u001b[0;34m:\u001b[0m\u001b[0;34m\u001b[0m\u001b[0m\n\u001b[0m\u001b[1;32m      7\u001b[0m         \u001b[0mfile_out\u001b[0m\u001b[0;34m.\u001b[0m\u001b[0mwrite\u001b[0m\u001b[0;34m(\u001b[0m\u001b[0;34m\"index \"\u001b[0m\u001b[0;34m+\u001b[0m\u001b[0mstr\u001b[0m\u001b[0;34m(\u001b[0m\u001b[0mk\u001b[0m\u001b[0;34m)\u001b[0m\u001b[0;34m+\u001b[0m\u001b[0;34m\",\\t R: \"\u001b[0m\u001b[0;34m+\u001b[0m\u001b[0mstr\u001b[0m\u001b[0;34m(\u001b[0m\u001b[0minp_R\u001b[0m\u001b[0;34m[\u001b[0m\u001b[0mk\u001b[0m\u001b[0;34m]\u001b[0m\u001b[0;34m)\u001b[0m\u001b[0;34m+\u001b[0m\u001b[0;34m\",\\t I: \"\u001b[0m\u001b[0;34m+\u001b[0m\u001b[0mstr\u001b[0m\u001b[0;34m(\u001b[0m\u001b[0minp_I\u001b[0m\u001b[0;34m[\u001b[0m\u001b[0mk\u001b[0m\u001b[0;34m]\u001b[0m\u001b[0;34m)\u001b[0m\u001b[0;34m+\u001b[0m\u001b[0;34m\",\\t Gold: \"\u001b[0m\u001b[0;34m+\u001b[0m\u001b[0mstr\u001b[0m\u001b[0;34m(\u001b[0m\u001b[0mgolden_D\u001b[0m\u001b[0;34m[\u001b[0m\u001b[0mk\u001b[0m\u001b[0;34m]\u001b[0m\u001b[0;34m)\u001b[0m\u001b[0;34m+\u001b[0m\u001b[0;34m\",\\t OFDM: \"\u001b[0m\u001b[0;34m+\u001b[0m\u001b[0mstr\u001b[0m\u001b[0;34m(\u001b[0m\u001b[0mout_D\u001b[0m\u001b[0;34m[\u001b[0m\u001b[0mk\u001b[0m\u001b[0;34m]\u001b[0m\u001b[0;34m)\u001b[0m\u001b[0;34m+\u001b[0m\u001b[0;34m\"\\n\"\u001b[0m\u001b[0;34m)\u001b[0m\u001b[0;34m\u001b[0m\u001b[0m\n",
      "\u001b[0;31mNameError\u001b[0m: name 'FSIZE' is not defined"
     ]
    }
   ],
   "source": [
    "# Write OFDM Receiver results to output file for easier comparison\n",
    "with open('output_compare.dat', 'w') as file_out:\n",
    "    file_out.write(\"-----------------------------------------------------------------\\n\")\n",
    "    file_out.write(\"             Golden Output versus OFDM Receiver Output           \\n\")\n",
    "    file_out.write(\"-----------------------------------------------------------------\\n\\n\")\n",
    "    for k in range(FSIZE):\n",
    "        file_out.write(\"index \"+str(k)+\",\\t R: \"+str(inp_R[k])+\",\\t I: \"+str(inp_I[k])+\",\\t Gold: \"+str(golden_D[k])+\",\\t OFDM: \"+str(out_D[k])+\"\\n\")"
   ]
  },
  {
   "cell_type": "code",
   "execution_count": 106,
   "metadata": {},
   "outputs": [
    {
     "name": "stdout",
     "output_type": "stream",
     "text": [
      "Throttle Command:   1614\n",
      "Roll Command:       1097\n",
      "Pitch Command:      1939\n",
      "Yaw Command:        31\n"
     ]
    }
   ],
   "source": [
    "# parsing buffered packet into channel data\n",
    "\n",
    "# channel 1   Throttle\n",
    "# channel 2   Roll\n",
    "# channel 3   Pitch\n",
    "# channel 4   yaw\n",
    "\n",
    "NUM_CHANNELS = 4\n",
    "\n",
    "channel = [0]*NUM_CHANNELS\n",
    "\n",
    "# bit masking to parse 11 bit channel data from buffer\n",
    "channel[0] = (buffer[1]      | buffer[2] << 8)                    & 0x7FF\n",
    "channel[1] = (buffer[2] >> 3 | buffer[3] << 5)                    & 0x7FF\n",
    "channel[2] = (buffer[3] >> 6 | buffer[4] << 2 | buffer[5] << 10)  & 0x7FF\n",
    "channel[3] = (buffer[5] >> 1 | buffer[6] << 7)                    & 0x7FF\n",
    "\n",
    "\n",
    "print('Throttle Command:  ', channel[0])\n",
    "print('Roll Command:      ', channel[1])\n",
    "print('Pitch Command:     ', channel[2])\n",
    "print('Yaw Command:       ', channel[3])\n",
    "\n"
   ]
  },
  {
   "cell_type": "code",
   "execution_count": null,
   "metadata": {},
   "outputs": [],
   "source": []
  },
  {
   "cell_type": "code",
   "execution_count": null,
   "metadata": {},
   "outputs": [],
   "source": []
  },
  {
   "cell_type": "code",
   "execution_count": null,
   "metadata": {},
   "outputs": [],
   "source": []
  },
  {
   "cell_type": "code",
   "execution_count": null,
   "metadata": {},
   "outputs": [],
   "source": []
  },
  {
   "cell_type": "code",
   "execution_count": null,
   "metadata": {},
   "outputs": [],
   "source": []
  },
  {
   "cell_type": "code",
   "execution_count": null,
   "metadata": {},
   "outputs": [],
   "source": [
    "#########################################\n",
    "# old code\n",
    "#########################################\n",
    "\n",
    "# grabbing data from the UART bus\n",
    "\n",
    "BIT_ONE = 0x00000001\n",
    "buffer = [0]*(NUM_BYTES)\n",
    "#buffer = [0]*(NUM_BYTES-1)\n",
    "BYTES_READ = 0\n",
    "\n",
    "test = [0]*(NUM_BYTES)\n",
    "\n",
    "\n",
    "while(BYTES_READ != (NUM_BYTES)):\n",
    "#while(BYTES_READ != (NUM_BYTES - 1)):\n",
    "    \n",
    "    #read from the RX FIFO when data present\n",
    "    #while((mmio.read(LINE_STATUS_REG) & BIT_ONE) != 1):\n",
    "        #pass\n",
    "    \n",
    "    #print(mmio.read(RX_BUF_REG))\n",
    "    #print(idx)\n",
    "    \n",
    "    #if(mmio.read(RX_BUF_REG) != 240):\n",
    "        #pass\n",
    "        #print('hard pass')\n",
    "        \n",
    "        \n",
    "    for index in range(NUM_BYTES):\n",
    "        buffer[index] = mmio.read(RX_BUF_REG)\n",
    "        BYTES_READ += 1\n",
    "        \n",
    "    #temp = mmio.read(RX_BUF_REG)\n",
    "    #if (temp != 240):\n",
    "    #    print(temp)\n",
    "    #else:\n",
    "    #    buffer[BYTES_READ] = mmio.read(RX_BUF_REG)\n",
    "    #    BYTES_READ += 1\n",
    "\n",
    "print(buffer) \n",
    "print('')\n",
    "print(''.join('%02x'%i for i in buffer))\n",
    "print('')\n",
    "\n",
    "for i in range(NUM_BYTES):\n",
    "    test[i] = ~buffer[i]\n",
    "    \n",
    "print(test)\n",
    "print('')\n",
    "print(''.join('%02x'%i for i in test))"
   ]
  },
  {
   "cell_type": "code",
   "execution_count": null,
   "metadata": {},
   "outputs": [],
   "source": [
    "# testing grabbing channel 1\n",
    "\n",
    "print('buffer[1]:             ', buffer[1])\n",
    "print('buffer[2]:             ', buffer[2])\n",
    "print('buffer[2] last 3 bits: ', buffer[2] & 0x07)\n",
    "\n",
    "temp = buffer[1] | (buffer[2] << 8)\n",
    "temp2 = temp & 0x07FF\n",
    "temp3 = (buffer[1] | buffer[2] << 8) & 0x07FF\n",
    " \n",
    "print('temp:                  ', temp)\n",
    "print('temp2:                 ', temp2)\n",
    "print('temp3:                 ', temp3)\n",
    "\n",
    "start = buffer[0]\n",
    "print('start byte:            ', start)\n",
    "channel_1 = (buffer[1] | ( buffer[2] << 8 )) & 0x07FF\n",
    "\n",
    "print('channel 1:             ', channel_1)"
   ]
  },
  {
   "cell_type": "code",
   "execution_count": null,
   "metadata": {},
   "outputs": [],
   "source": [
    "# TRAVIS IDEAS for infinite graph display\n",
    "\n",
    "while !quit:\n",
    "  get packet\n",
    "  update the graph\n",
    "  send stuff if the user wants to send stuff\n",
    "    i.e. break commands"
   ]
  }
 ],
 "metadata": {
  "kernelspec": {
   "display_name": "Python 3",
   "language": "python",
   "name": "python3"
  },
  "language_info": {
   "codemirror_mode": {
    "name": "ipython",
    "version": 3
   },
   "file_extension": ".py",
   "mimetype": "text/x-python",
   "name": "python",
   "nbconvert_exporter": "python",
   "pygments_lexer": "ipython3",
   "version": "3.6.5"
  }
 },
 "nbformat": 4,
 "nbformat_minor": 2
}
