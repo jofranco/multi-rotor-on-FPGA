{
 "cells": [
  {
   "cell_type": "markdown",
   "metadata": {},
   "source": [
    "------------------------------------------------------------------------\n",
    "\n",
    "# WES 207 X8 FPGA Flight Controller Demo Code\n",
    "\n",
    "### Author: Aaron Coffman\n",
    "\n",
    "-------------------------------------------------------------------------"
   ]
  },
  {
   "cell_type": "markdown",
   "metadata": {},
   "source": [
    "### Jupyter Notebook Setup for Overlay Import"
   ]
  },
  {
   "cell_type": "code",
   "execution_count": 1,
   "metadata": {},
   "outputs": [
    {
     "data": {
      "application/javascript": [
       "\n",
       "require(['notebook/js/codecell'], function(codecell) {\n",
       "  codecell.CodeCell.options_default.highlight_modes[\n",
       "      'magic_text/x-csrc'] = {'reg':[/^%%microblaze/]};\n",
       "  Jupyter.notebook.events.one('kernel_ready.Kernel', function(){\n",
       "      Jupyter.notebook.get_cells().map(function(cell){\n",
       "          if (cell.cell_type == 'code'){ cell.auto_highlight(); } }) ;\n",
       "  });\n",
       "});\n"
      ]
     },
     "metadata": {},
     "output_type": "display_data"
    },
    {
     "name": "stdout",
     "output_type": "stream",
     "text": [
      "\n",
      "done\n"
     ]
    }
   ],
   "source": [
    "\n",
    "from pynq import Overlay\n",
    "from pynq import MMIO\n",
    "import time\n",
    "import numpy as np\n",
    "from math import *\n",
    "\n",
    "print('')\n",
    "print('done')"
   ]
  },
  {
   "cell_type": "markdown",
   "metadata": {},
   "source": [
    "### Loading FPGA bit stream"
   ]
  },
  {
   "cell_type": "code",
   "execution_count": 17,
   "metadata": {},
   "outputs": [
    {
     "name": "stdout",
     "output_type": "stream",
     "text": [
      "  \n",
      "0.431748628616333 seconds to program bitstream\n",
      "\n",
      "done\n"
     ]
    }
   ],
   "source": [
    "# Load bitstream\n",
    "#ol = Overlay('SBUS_DEMO_100M_tx_ext_clks_test5.bit')\n",
    "ol = Overlay('X8_DEMO_6.bit')\n",
    "\n",
    "# Download bitstream to FPGA\n",
    "t_before_bitstream = time.time()\n",
    "ol.download()\n",
    "t_after_bitstream = time.time()\n",
    "print('  ')\n",
    "print(t_after_bitstream - t_before_bitstream, 'seconds to program bitstream')\n",
    "\n",
    "print('')\n",
    "print('done')"
   ]
  },
  {
   "cell_type": "markdown",
   "metadata": {},
   "source": [
    "### Setting MMIO Address Definitions"
   ]
  },
  {
   "cell_type": "code",
   "execution_count": 18,
   "metadata": {},
   "outputs": [
    {
     "name": "stdout",
     "output_type": "stream",
     "text": [
      "Address Definitions complete\n",
      "\n",
      "done\n"
     ]
    }
   ],
   "source": [
    "# Address space definitions\n",
    "## MMIO targets\n",
    "\n",
    "# Xilinx IP cores\n",
    "QUAD_SPI_BASE_ADDRESS           = 0x40000000\n",
    "UART_16550_BASE_ADDRESS         = 0x40020000\n",
    "\n",
    "# HLS IP cores\n",
    "SPI_DRIVER_CTRL_BASE_ADDRESS    = 0x00000000  # placeholder\n",
    "POSITION_CTRL_BASE_ADDRESS      = 0x00000000  # placeholder\n",
    "\n",
    "UART_DRIVER_CTRL_BASE_ADDRESS   = 0x40002000\n",
    "\n",
    "RC_RECEIVER_CTRL_BASE_ADDRESS   = 0x40003000\n",
    "RC_RECEIVER_DATA_BASE_ADDRESS   = 0x40003020  # 0x20 for raw SBUS data\n",
    "\n",
    "FLIGHT_MAIN_CTRL_BASE_ADDRESS   = 0x40004000\n",
    "FLIGHT_MAIN_CMD_BASE_ADDRESS    = 0x40004010  # 0x10 for scaled SBUS data\n",
    "FLIGHT_MAIN_MEAS_BASE_ADDRESS   = 0x40004020  # 0x20 for scaled Measured data\n",
    "\n",
    "PID_CTRL_BASE_ADDRESS           = 0x40005000\n",
    "PID_INPUT_CMD_BASE_ADDRESS      = 0x40005010  # 0x10 for CMD input\n",
    "PID_INPUT_MEAS_BASE_ADDRESS     = 0x40005020  # 0x20 for Measured input\n",
    "PID_KP_BASE_ADDRESS             = 0x40005040  # 0x40 for kp PID gains\n",
    "PID_KI_BASE_ADDRESS             = 0x40005070  # 0x70 for ki PID gains\n",
    "PID_KD_BASE_ADDRESS             = 0x40005060  # 0x60 for kd PID gains\n",
    "\n",
    "PWM_CTRL_BASE_ADDRESS           = 0x40006000\n",
    "PWM_INPUT_CMD_BASE_ADDRESS      = 0x40006040  # 0x40 for CMD input\n",
    "PWM_MIN_DUTY_BASE_ADDRESS       = 0x40006010  # 0x10 for Min Duty Cycle input\n",
    "PWM_MAX_DUTY_BASE_ADDRESS       = 0x40006018  # 0x18 for Max Duty Cycle input\n",
    "PWM_PERIOD_ADDRESS              = 0x40006020  # 0x20 for Period (frequency) Input\n",
    "PWM_TEST_DATA_BASE_ADDRESS      = 0x40014000\n",
    "\n",
    "\n",
    "# MMIO address ranges\n",
    "ADDRESS_RANGE1 = 0x1000    # 4k\n",
    "ADDRESS_RANGE2 = 0x2000    # 8k\n",
    "ADDRESS_RANGE3 = 0x4000    # 16k\n",
    "ADDRESS_RANGE4 = 0x10000   # 64k\n",
    "\n",
    "\n",
    "print('Address Definitions complete')\n",
    "print('')\n",
    "print('done')"
   ]
  },
  {
   "cell_type": "markdown",
   "metadata": {},
   "source": [
    "### Defining MMIO index offsets for read/write functions"
   ]
  },
  {
   "cell_type": "code",
   "execution_count": 19,
   "metadata": {},
   "outputs": [
    {
     "name": "stdout",
     "output_type": "stream",
     "text": [
      "\n",
      "done\n"
     ]
    }
   ],
   "source": [
    "# defining MMIO index offsets\n",
    "index_0 = 0x00\n",
    "index_1 = 0x04\n",
    "index_2 = 0x08\n",
    "index_3 = 0x0C\n",
    "index_4 = 0x10\n",
    "index_5 = 0x14\n",
    "index_6 = 0x18\n",
    "index_7 = 0x1C \n",
    "index_8 = 0x20\n",
    "index_9 = 0x24\n",
    "index_10 = 0x28\n",
    "index_11 = 0x2C\n",
    "index_12 = 0x30\n",
    "index_13 = 0x34\n",
    "index_14 = 0x38\n",
    "index_15 = 0x3C \n",
    "index_16 = 0x40\n",
    "index_17 = 0x44\n",
    "index_18 = 0x48\n",
    "index_19 = 0x4C\n",
    "index_20 = 0x50\n",
    "index_21 = 0x54\n",
    "index_22 = 0x58\n",
    "index_23 = 0x5C \n",
    "index_24 = 0x60\n",
    "index_25 = 0x64\n",
    "index_26 = 0x68\n",
    "index_27 = 0x6C\n",
    "index_28 = 0x70\n",
    "index_29 = 0x74\n",
    "\n",
    "print('')\n",
    "print('done')"
   ]
  },
  {
   "cell_type": "markdown",
   "metadata": {},
   "source": [
    "### Configuring PID Controller Gains"
   ]
  },
  {
   "cell_type": "code",
   "execution_count": 20,
   "metadata": {},
   "outputs": [
    {
     "name": "stdout",
     "output_type": "stream",
     "text": [
      "Decimal Value:  1638.4\n",
      "Hex Value: \t666\n"
     ]
    }
   ],
   "source": [
    "# calculating PID gains for 32 bit fixed point kp, ki, kd\n",
    "\n",
    "Desired_gain = 0.200\n",
    "val = Desired_gain / pow(2,-13)\n",
    "\n",
    "print('Decimal Value: ', val   )\n",
    "print('Hex Value: \\t{0:x}'.format( int(val) ))\n"
   ]
  },
  {
   "cell_type": "code",
   "execution_count": 21,
   "metadata": {},
   "outputs": [
    {
     "name": "stdout",
     "output_type": "stream",
     "text": [
      "kp: 0.199951171875 0.199951171875 0.199951171875 0.199951171875 0.199951171875 0.199951171875\n",
      "ki: 0.0 0.0 0.0 0.0\n",
      "kd: 0.00048828125 0.00048828125 0.00048828125 0.00048828125\n",
      "\n",
      "done\n"
     ]
    }
   ],
   "source": [
    "\n",
    "# creating MMIO objects\n",
    "kp_gains = MMIO(PID_KP_BASE_ADDRESS,ADDRESS_RANGE1, False)\n",
    "ki_gains = MMIO(PID_KI_BASE_ADDRESS,ADDRESS_RANGE1, False)\n",
    "kd_gains = MMIO(PID_KD_BASE_ADDRESS,ADDRESS_RANGE1, False)\n",
    "\n",
    "# setting PID gains for DEMO/debug\n",
    "kp_gains.write(index_0,0x666)   # Positon Roll  kp\n",
    "kp_gains.write(index_1,0x666)   # Positon Pitch kp\n",
    "kp_gains.write(index_2,0x666)   # Positon Yaw   kp\n",
    "kp_gains.write(index_3,0x666)   # Rate    Roll  kp\n",
    "kp_gains.write(index_4,0x666)   # Rate    Pitch kp\n",
    "kp_gains.write(index_5,0x666)   # Rate    yaw   kp\n",
    "\n",
    "ki_gains.write(index_0,0x0)   # Positon Roll   ki\n",
    "ki_gains.write(index_1,0x0)   # Positon Pitch  ki\n",
    "ki_gains.write(index_2,0x0)   # Rate    Roll   ki\n",
    "ki_gains.write(index_3,0x0)   # Rate    Pitch  ki\n",
    "\n",
    "kd_gains.write(index_0,0x4)   # Positon Roll   kd\n",
    "kd_gains.write(index_1,0x4)   # Positon Pitch  kd\n",
    "kd_gains.write(index_2,0x4)   # Rate    Roll   kd\n",
    "kd_gains.write(index_3,0x4)   # Rate    Pitch  kd\n",
    "\n",
    "# reading back PID gain values\n",
    "# kp\n",
    "test1 = kp_gains.read(index_0) * pow(2,-13)\n",
    "test2 = kp_gains.read(index_1) * pow(2,-13)\n",
    "test3 = kp_gains.read(index_2) * pow(2,-13)\n",
    "test4 = kp_gains.read(index_3) * pow(2,-13)\n",
    "test5 = kp_gains.read(index_4) * pow(2,-13)\n",
    "test6 = kp_gains.read(index_5) * pow(2,-13)\n",
    "print(\"kp:\", test1, test2, test3, test4, test5, test6)\n",
    "\n",
    "# ki\n",
    "test1 = ki_gains.read(index_0) * pow(2,-13)\n",
    "test2 = ki_gains.read(index_1) * pow(2,-13)\n",
    "test3 = ki_gains.read(index_2) * pow(2,-13)\n",
    "test4 = ki_gains.read(index_3) * pow(2,-13)\n",
    "print(\"ki:\", test1, test2, test3, test4)\n",
    "\n",
    "# kd\n",
    "test1 = kd_gains.read(index_0) * pow(2,-13)\n",
    "test2 = kd_gains.read(index_1) * pow(2,-13)\n",
    "test3 = kd_gains.read(index_2) * pow(2,-13)\n",
    "test4 = kd_gains.read(index_3) * pow(2,-13)\n",
    "print(\"kd:\", test1, test2, test3, test4)\n",
    "\n",
    "\n",
    "print('')\n",
    "print('done')"
   ]
  },
  {
   "cell_type": "markdown",
   "metadata": {},
   "source": [
    "### Configuring PWM Generator Frequency and Duty Cycle"
   ]
  },
  {
   "cell_type": "code",
   "execution_count": 22,
   "metadata": {},
   "outputs": [
    {
     "name": "stdout",
     "output_type": "stream",
     "text": [
      "Min Duty: 16128 Max Duty: 27424 Period: 35712\n"
     ]
    }
   ],
   "source": [
    "# creating MMIO objects\n",
    "PWM_Min_Duty = MMIO(PWM_MIN_DUTY_BASE_ADDRESS,ADDRESS_RANGE1, False)\n",
    "PWM_Max_Duty = MMIO(PWM_MAX_DUTY_BASE_ADDRESS,ADDRESS_RANGE1, False)\n",
    "PWM_Period = MMIO(PWM_PERIOD_ADDRESS,ADDRESS_RANGE1, False)\n",
    "\n",
    "\n",
    "# setting PWM Min/Max Duty Cycle and Period for DEMO/debug\n",
    "PWM_Min_Duty.write(index_0,0x3F00)   # PWM Min Duty Cycle\n",
    "PWM_Max_Duty.write(index_0,0x6B20)   # PWM Max Duty Cycle\n",
    "PWM_Period.write(index_0,0x8B80)     # PWM Period\n",
    "\n",
    "\n",
    "# Reading PWM Min/Max Duty Cycle and Period for DEMO/debug\n",
    "test1 = PWM_Min_Duty.read(index_0)\n",
    "test2 = PWM_Max_Duty.read(index_0)\n",
    "test3 = PWM_Period.read(index_0)\n",
    "print(\"Min Duty:\", test1,\"Max Duty:\", test2,\"Period:\", test3)\n",
    "\n"
   ]
  },
  {
   "cell_type": "markdown",
   "metadata": {},
   "source": [
    "### Creating MMIO Objects"
   ]
  },
  {
   "cell_type": "code",
   "execution_count": 23,
   "metadata": {},
   "outputs": [
    {
     "name": "stdout",
     "output_type": "stream",
     "text": [
      "UART16550 Core Configuration Complete\n",
      "\n",
      "done\n"
     ]
    }
   ],
   "source": [
    "\n",
    "# UART16650 Core\n",
    "UART_core = MMIO(UART_16550_BASE_ADDRESS,ADDRESS_RANGE4, False)                    # 64k\n",
    "UART_Driver = MMIO(UART_DRIVER_CTRL_BASE_ADDRESS,ADDRESS_RANGE1, False)            # 4k\n",
    "\n",
    "# RC Receiver Core\n",
    "RC_Driver = MMIO(RC_RECEIVER_CTRL_BASE_ADDRESS,ADDRESS_RANGE1, False)              # 4k\n",
    "RC_CMD_Data = MMIO(RC_RECEIVER_DATA_BASE_ADDRESS,ADDRESS_RANGE1, False)            # 4k\n",
    "\n",
    "# Flight Main Core\n",
    "Flight_Main_core = MMIO(FLIGHT_MAIN_CTRL_BASE_ADDRESS,ADDRESS_RANGE1, False)       # 4k\n",
    "Flight_Main_CMD_Data = MMIO(FLIGHT_MAIN_CMD_BASE_ADDRESS,ADDRESS_RANGE1, False)    # 4k\n",
    "Flight_Main_MEAS_Data = MMIO(FLIGHT_MAIN_MEAS_BASE_ADDRESS,ADDRESS_RANGE1, False)  # 4k\n",
    "\n",
    "# PID Core\n",
    "PID_core = MMIO(PID_CTRL_BASE_ADDRESS,ADDRESS_RANGE1, False)             # 4k\n",
    "PID_CMD_Data = MMIO(PID_INPUT_CMD_BASE_ADDRESS,ADDRESS_RANGE1, False)    # 4k\n",
    "PID_MEAS_Data = MMIO(PID_INPUT_MEAS_BASE_ADDRESS,ADDRESS_RANGE1, False)  # 4k\n",
    "\n",
    "# PWM Core\n",
    "PWM_core = MMIO(PWM_CTRL_BASE_ADDRESS,ADDRESS_RANGE1, False)             # 4k\n",
    "PWM_CMD_Data = MMIO(PWM_INPUT_CMD_BASE_ADDRESS,ADDRESS_RANGE1, False)    # 4k\n",
    "PWM_Test_Data = MMIO(PWM_TEST_DATA_BASE_ADDRESS,ADDRESS_RANGE3, False)   # 16k\n",
    "\n",
    "\n",
    "# UART scratch register address\n",
    "SCRATCH_REG      =   0x101C \n",
    "\n",
    "# setting WHO_AM_I value for debug\n",
    "#UART_core.write(SCRATCH_REG,0xFF)\n",
    "\n",
    "print('UART16550 Core Configuration Complete')\n",
    "print('')\n",
    "print('done')"
   ]
  },
  {
   "cell_type": "markdown",
   "metadata": {},
   "source": [
    "### Starting HLS Cores"
   ]
  },
  {
   "cell_type": "code",
   "execution_count": 24,
   "metadata": {},
   "outputs": [
    {
     "name": "stdout",
     "output_type": "stream",
     "text": [
      "CONFIG_REG UART: \t 131\n",
      "CONFIG_REG RC: \t\t 131\n",
      "CONFIG_REG Flight Main:  131\n",
      "CONFIG_REG PID: \t 131\n",
      "CONFIG_REG PWM: \t 131\n",
      "\n",
      "\n"
     ]
    }
   ],
   "source": [
    "# NOTE, starting last core in chain first\n",
    "# PWM -> PID -> FLight_Main -> RC_Receiver -> UART_Driver\n",
    "\n",
    "# setting ap_start/auto reset on PWM core\n",
    "#PWM_core.write(0x00,0x01)  # runs once\n",
    "PWM_core.write(0x00,0x81) # runs continuously\n",
    "\n",
    "# setting ap_start/auto reset on PID core\n",
    "#PID_core.write(0x00,0x01)  # runs once\n",
    "PID_core.write(0x00,0x81) # runs continuously\n",
    "\n",
    "# setting ap_start/auto reset on Flight main\n",
    "#Flight_Main_core.write(0x00,0x01)  # runs once\n",
    "Flight_Main_core.write(0x00,0x81) # runs continuously\n",
    "\n",
    "# setting ap_start/auto reset on RC Receiver\n",
    "#RC_Driver.write(0x00,0x01)  # runs once\n",
    "RC_Driver.write(0x00,0x81) # runs continuously\n",
    "\n",
    "# setting ap_start/auto reset on UART Driver\n",
    "#UART_Driver.write(0x00,0x01)  # runs once\n",
    "UART_Driver.write(0x00,0x81) # runs continuously\n",
    "\n",
    "\n",
    "# reading back CONFIG registers for HLS cores\n",
    "CONFIG_REG5 = PWM_core.read(0x00)\n",
    "CONFIG_REG4 = PID_core.read(0x00)\n",
    "CONFIG_REG3 = Flight_Main_core.read(0x00)\n",
    "CONFIG_REG2 = RC_Driver.read(0x00)\n",
    "CONFIG_REG1 = UART_Driver.read(0x00)\n",
    "\n",
    "\n",
    "print('CONFIG_REG UART: \\t', CONFIG_REG1)\n",
    "print('CONFIG_REG RC: \\t\\t', CONFIG_REG2)\n",
    "print('CONFIG_REG Flight Main: ', CONFIG_REG3)\n",
    "print('CONFIG_REG PID: \\t', CONFIG_REG4)\n",
    "print('CONFIG_REG PWM: \\t', CONFIG_REG5)\n",
    "print('')\n",
    "print('')"
   ]
  },
  {
   "cell_type": "markdown",
   "metadata": {},
   "source": [
    "### UART Driver Configuration Confirmation and Status"
   ]
  },
  {
   "cell_type": "code",
   "execution_count": 26,
   "metadata": {},
   "outputs": [
    {
     "name": "stdout",
     "output_type": "stream",
     "text": [
      "WHO_AM_I: \t 69\n",
      "OVERRUN_ERROR: \t 0 \r\n",
      "\n",
      "done\n"
     ]
    }
   ],
   "source": [
    "\n",
    "# UART16650 Line status register offset\n",
    "LINE_STATUS_REG  =   0x1014 \n",
    "\n",
    "# reading scratch register for configuration verification, expect 0x45\n",
    "test_read = UART_core.read(SCRATCH_REG)\n",
    "print('WHO_AM_I: \\t', test_read)\n",
    "\n",
    "# reading FIFO status of UART core\n",
    "# Overrun Error = 1 indicates RX FIFO Overflow\n",
    "OVERRUN_ERROR = UART_core.read(LINE_STATUS_REG)\n",
    "OVERRUN_ERROR = OVERRUN_ERROR & 0x02 # grabbing bit 1\n",
    "print('OVERRUN_ERROR: \\t', OVERRUN_ERROR,'\\r')\n",
    "\n",
    "\n",
    "print('')\n",
    "print('done')"
   ]
  },
  {
   "cell_type": "code",
   "execution_count": 30,
   "metadata": {},
   "outputs": [
    {
     "name": "stdout",
     "output_type": "stream",
     "text": [
      "Motor Input 1:  0\n",
      "Motor Input 2:  0\n",
      "Motor Input 3:  0\n",
      "Motor Input 4:  0\n",
      "Motor Input 5:  0\n",
      "Motor Input 6:  0\n",
      "Motor Input 7:  0\n",
      "Motor Input 8:  0\n",
      "\n",
      "\n",
      "M1:  0\n",
      "M2:  0\n",
      "M3:  0\n",
      "M4:  0\n",
      "M5:  0\n",
      "M6:  0\n",
      "M7:  0\n",
      "M8:  0\n",
      "\n",
      "\n",
      "ARM Flag:   0\n",
      "ARMED val:  0\n",
      "expect 1:   1\n",
      "expect 0:   0\n",
      "expect 1:   1\n",
      "expect 0:   0\n",
      "expect 1:   1\n",
      "expect 69:  69\n",
      "\n",
      "done\n"
     ]
    }
   ],
   "source": [
    "\n",
    "#motor outputs\n",
    "TEST_READ1  = PWM_Test_Data.read(index_0)\n",
    "TEST_READ2  = PWM_Test_Data.read(index_1)\n",
    "TEST_READ3  = PWM_Test_Data.read(index_2)\n",
    "TEST_READ4 = PWM_Test_Data.read(index_3)\n",
    "TEST_READ5 = PWM_Test_Data.read(index_4)\n",
    "TEST_READ6 = PWM_Test_Data.read(index_5)\n",
    "TEST_READ7 = PWM_Test_Data.read(index_6)\n",
    "TEST_READ8 = PWM_Test_Data.read(index_7)\n",
    "TEST_READ9 = PWM_Test_Data.read(index_8)\n",
    "TEST_READ10 = PWM_Test_Data.read(index_9)\n",
    "TEST_READ11 = PWM_Test_Data.read(index_10)\n",
    "TEST_READ12 = PWM_Test_Data.read(index_11)\n",
    "TEST_READ13 = PWM_Test_Data.read(index_12)\n",
    "TEST_READ14 = PWM_Test_Data.read(index_13)\n",
    "TEST_READ15 = PWM_Test_Data.read(index_14)\n",
    "TEST_READ16 = PWM_Test_Data.read(index_15)\n",
    "TEST_READ17 = PWM_Test_Data.read(index_16)\n",
    "\n",
    "\n",
    "print('Motor Input 1: ', TEST_READ10)\n",
    "print('Motor Input 2: ', TEST_READ11)\n",
    "print('Motor Input 3: ', TEST_READ12)\n",
    "print('Motor Input 4: ', TEST_READ13)\n",
    "print('Motor Input 5: ', TEST_READ14)\n",
    "print('Motor Input 6: ', TEST_READ15)\n",
    "print('Motor Input 7: ', TEST_READ16)\n",
    "print('Motor Input 8: ', TEST_READ17)\n",
    "print('')\n",
    "print('')\n",
    "print('M1: ', ((TEST_READ1 & 0x01) >> 0))\n",
    "print('M2: ', ((TEST_READ1 & 0x02) >> 1))\n",
    "print('M3: ', ((TEST_READ1 & 0x04) >> 2))\n",
    "print('M4: ', ((TEST_READ1 & 0x08) >> 3))\n",
    "print('M5: ', ((TEST_READ1 & 0x10) >> 4))\n",
    "print('M6: ', ((TEST_READ1 & 0x20) >> 5))\n",
    "print('M7: ', ((TEST_READ1 & 0x40) >> 6))\n",
    "print('M8: ', ((TEST_READ1 & 0x80) >> 7))\n",
    "print('')\n",
    "print('')\n",
    "print('ARM Flag:  ',TEST_READ2)\n",
    "print('ARMED val: ',TEST_READ3)\n",
    "print('expect 1:  ',TEST_READ4)\n",
    "print('expect 0:  ',TEST_READ5)\n",
    "print('expect 1:  ',TEST_READ6)\n",
    "print('expect 0:  ',TEST_READ7)\n",
    "print('expect 1:  ',TEST_READ8)\n",
    "print('expect 69: ',TEST_READ9)\n",
    "\n",
    "\n",
    "\n",
    "print('')\n",
    "print('done')\n"
   ]
  },
  {
   "cell_type": "markdown",
   "metadata": {},
   "source": [
    "# Debug Code"
   ]
  },
  {
   "cell_type": "code",
   "execution_count": 53,
   "metadata": {},
   "outputs": [
    {
     "name": "stdout",
     "output_type": "stream",
     "text": [
      "Throttle Input Flight Main: \t -616.00000\n",
      "Roll Input Flight Main: \t 208.00439\n",
      "Pitch Input Flight Main: \t 1.00000\n",
      "Yaw Input Flight Main: \t\t 0.00000\n",
      "Arm Input Flight Main: \t\t 0\n",
      "Mode Input Flight Main: \t 0\n",
      "\n"
     ]
    }
   ],
   "source": [
    "# checking for data propogation though block design\n",
    "\n",
    "# reading Flight Main input data\n",
    "test1 = Flight_Main_CMD_Data.read(index_0)\n",
    "if( test1 > 0x7FFFFFFF ):    # 2147483647\n",
    "    test1 = -(0xFFFFFFFF - test1 + 1)  # 4294967295\n",
    "test2 = Flight_Main_CMD_Data.read(index_1)\n",
    "if( test2 > 0x7FFFFFFF ):    # 2147483647\n",
    "    test2 = -(0xFFFFFFFF - test2 + 1)  # 4294967295\n",
    "test3 = Flight_Main_CMD_Data.read(index_2)\n",
    "if( test3 > 0x7FFFFFFF ):    # 2147483647\n",
    "    test3 = -(0xFFFFFFFF - test3 + 1)  # 4294967295\n",
    "test4 = Flight_Main_CMD_Data.read(index_3)\n",
    "if( test4 > 0x7FFFFFFF ):    # 2147483647\n",
    "    test4 = -(0xFFFFFFFF - test4 + 1)  # 4294967295\n",
    "test5 = Flight_Main_CMD_Data.read(index_4)\n",
    "test6 = Flight_Main_CMD_Data.read(index_5)\n",
    "\n",
    "print('Throttle Input Flight Main: \\t',\"%1.5F\"% (test1 * pow(2,-13)))\n",
    "print('Roll Input Flight Main: \\t',\"%1.5F\"% (test2 * pow(2,-13)))\n",
    "print('Pitch Input Flight Main: \\t',\"%1.5F\"% (test3 * pow(2,-13)))\n",
    "print('Yaw Input Flight Main: \\t\\t',\"%1.5F\"% (test4 * pow(2,-13)))\n",
    "print('Arm Input Flight Main: \\t\\t',\"%1d\"% (test5 * pow(2,-13)))\n",
    "print('Mode Input Flight Main: \\t',\"%1d\"% (test6 * pow(2,-13)))\n",
    "print('')"
   ]
  },
  {
   "cell_type": "code",
   "execution_count": null,
   "metadata": {},
   "outputs": [],
   "source": []
  },
  {
   "cell_type": "code",
   "execution_count": null,
   "metadata": {},
   "outputs": [],
   "source": []
  },
  {
   "cell_type": "code",
   "execution_count": null,
   "metadata": {},
   "outputs": [],
   "source": []
  },
  {
   "cell_type": "code",
   "execution_count": null,
   "metadata": {},
   "outputs": [],
   "source": []
  },
  {
   "cell_type": "code",
   "execution_count": null,
   "metadata": {},
   "outputs": [],
   "source": [
    "# X8 Flight Controller Demo - RC controls\n",
    "from __future__ import print_function\n",
    "import sys\n",
    "count = 0\n",
    "\n",
    "print('')\n",
    "print('')\n",
    "while(count < 10000):\n",
    "    \n",
    "    # reading PWM Outputs\n",
    "    TEST_READ1  = PWM_Test_Data.read(index_0)\n",
    "    TEST_READ2  = PWM_Test_Data.read(index_1)\n",
    "    TEST_READ3  = PWM_Test_Data.read(index_2)\n",
    "    TEST_READ4  = PWM_Test_Data.read(index_3)\n",
    "    TEST_READ5  = PWM_Test_Data.read(index_4)\n",
    "    TEST_READ6  = PWM_Test_Data.read(index_5)\n",
    "    TEST_READ7  = PWM_Test_Data.read(index_6)\n",
    "    TEST_READ8  = PWM_Test_Data.read(index_7)\n",
    "    \n",
    "\n",
    "    #print('')\n",
    "    print('M1: ', (TEST_READ1),'M2: ', (TEST_READ2),'M3: ', (TEST_READ3),'M4: ', (TEST_READ4),'M5: ', (TEST_READ5),'M6: ', (TEST_READ6),'M7: ', (TEST_READ7),'M8: ', (TEST_READ8),'  ', end='\\r')\n",
    "    \n",
    "    time.sleep(0.25) \n",
    "    sys.stdout.flush()\n",
    "    count = count + 1\n",
    "print(\"\")"
   ]
  },
  {
   "cell_type": "markdown",
   "metadata": {},
   "source": [
    "### End of DEMO code"
   ]
  },
  {
   "cell_type": "code",
   "execution_count": null,
   "metadata": {},
   "outputs": [],
   "source": []
  }
 ],
 "metadata": {
  "kernelspec": {
   "display_name": "Python 3",
   "language": "python",
   "name": "python3"
  },
  "language_info": {
   "codemirror_mode": {
    "name": "ipython",
    "version": 3
   },
   "file_extension": ".py",
   "mimetype": "text/x-python",
   "name": "python",
   "nbconvert_exporter": "python",
   "pygments_lexer": "ipython3",
   "version": "3.6.5"
  }
 },
 "nbformat": 4,
 "nbformat_minor": 2
}
